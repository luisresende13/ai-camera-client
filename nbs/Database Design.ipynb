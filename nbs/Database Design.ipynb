{
 "cells": [
  {
   "cell_type": "markdown",
   "id": "9e13605c-6826-489b-a816-5824c91ac433",
   "metadata": {},
   "source": [
    "#### Users database"
   ]
  },
  {
   "cell_type": "code",
   "execution_count": null,
   "id": "341b52aa-1c14-4492-9b6b-7f9bf58f508f",
   "metadata": {},
   "outputs": [],
   "source": [
    "Users:\n",
    "    _id: unique identifier\n",
    "    username\n",
    "    password\n",
    "    email\n",
    "\n",
    "Cameras:\n",
    "    _id\n",
    "    user_id\n",
    "    name\n",
    "    protocol\n",
    "    address\n",
    "    port\n",
    "    subpath\n",
    "    connected\n",
    "    # Other camera specific configurations, such as ...\n",
    "    # Enable motion detection\n",
    "    # Record motion detection\n",
    "    # Etc\n",
    "\n",
    "Configurations:\n",
    "    _id\n",
    "    user_id\n",
    "    camera_id\n",
    "    object_id\n",
    "    triggers: Triggers to start inference. List with possible values \"motion\" or \"frequency\".\n",
    "    frequency: time in between inferences\n",
    "    enabled: Wether the last check of the camera status is \"connected\". True or False.\n",
    "    # start_time\n",
    "    # end_time\n",
    "    # polygon\n",
    "    # save_image\n",
    "    # save_video\n",
    "    # ...\n",
    "\n",
    "Objects:\n",
    "    _id\n",
    "    class_name\n",
    "    class_id\n",
    "    model_name\n",
    "\n",
    "Results:\n",
    "    _id\n",
    "    camera_id\n",
    "    user_id\n",
    "    object\n",
    "    timestamp\n",
    "    count: available for detection only"
   ]
  },
  {
   "cell_type": "code",
   "execution_count": 1,
   "id": "315ae1f7-ade7-44ca-871e-62dc42ba1ec6",
   "metadata": {},
   "outputs": [],
   "source": [
    "a = 0"
   ]
  },
  {
   "cell_type": "code",
   "execution_count": 2,
   "id": "881b28e8-d85f-4ab2-a83c-85d89c718265",
   "metadata": {},
   "outputs": [],
   "source": [
    "from time import time \n",
    "start = time()\n",
    "import os\n",
    "import datetime\n",
    "import requests\n",
    "import jwt\n",
    "from functools import wraps\n"
   ]
  },
  {
   "cell_type": "markdown",
   "id": "ad48c3b0-0fdf-42a3-be85-a590eef3516b",
   "metadata": {},
   "source": [
    "#### Automation architecture"
   ]
  },
  {
   "cell_type": "code",
   "execution_count": null,
   "id": "7c6d0790-82bf-47ad-af07-e0cae55607c8",
   "metadata": {},
   "outputs": [],
   "source": [
    "Option 1: Single "
   ]
  }
 ],
 "metadata": {
  "kernelspec": {
   "display_name": "Python 3 (ipykernel)",
   "language": "python",
   "name": "python3"
  },
  "language_info": {
   "codemirror_mode": {
    "name": "ipython",
    "version": 3
   },
   "file_extension": ".py",
   "mimetype": "text/x-python",
   "name": "python",
   "nbconvert_exporter": "python",
   "pygments_lexer": "ipython3",
   "version": "3.11.7"
  }
 },
 "nbformat": 4,
 "nbformat_minor": 5
}
