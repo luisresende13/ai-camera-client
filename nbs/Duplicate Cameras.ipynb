{
 "cells": [
  {
   "cell_type": "markdown",
   "id": "3afbebb6-6cac-42ec-ab53-79a876d1ce75",
   "metadata": {},
   "source": [
    "#### Helper functions"
   ]
  },
  {
   "cell_type": "code",
   "execution_count": 2,
   "id": "c0040505-97f7-45e4-9997-c04abd987e73",
   "metadata": {},
   "outputs": [
    {
     "data": {
      "text/plain": [
       "True"
      ]
     },
     "execution_count": 2,
     "metadata": {},
     "output_type": "execute_result"
    }
   ],
   "source": [
    "import os\n",
    "import requests\n",
    "from mongodb_client.mongodb import MongoDB\n",
    "\n",
    "AI_CAMERA_CLIENT_API_URL = 'https://ai-camera-client-871238133710.us-central1.run.app'\n",
    "\n",
    "MONGO_API_URL = 'https://mongo-api-871238133710.us-central1.run.app'\n",
    "mongodb = MongoDB(MONGO_API_URL)\n",
    "# auth = {'email': 'luisresende13@gmail.com', 'password': 'Gaia0333'}\n",
    "auth = {'email': 'sandbox-octacity@gmail.com', 'password': 'octa2023'}\n",
    "\n",
    "mongodb.signin(**auth)"
   ]
  },
  {
   "cell_type": "markdown",
   "id": "ccdfb9f3-80e6-470f-9a7e-489c7e52660d",
   "metadata": {},
   "source": [
    "### Add fields 'process' and 'inference_video_duration' for configs missing the fields"
   ]
  },
  {
   "cell_type": "code",
   "execution_count": null,
   "id": "70c9da1d-ef3b-4c08-bd66-554033138f2e",
   "metadata": {},
   "outputs": [],
   "source": [
    "cameras = mongodb.get_records('octacity', 'cameras', {'user_id': '6750272c99ab7d755420ac05'})\n",
    "cameras = list(filter(lambda cam: 'CISP' not in cam['name'], cameras))\n",
    "\n",
    "for camera in cameras[1:]:\n",
    "    base_name = camera['name'].split()[0]\n",
    "    data = {\n",
    "        'user_id': camera['user_id'],\n",
    "        'name': None,\n",
    "        'protocol': camera['protocol'],\n",
    "        'address': camera['address'],\n",
    "        'port': camera['port'],\n",
    "        'subpath': camera['subpath'],\n",
    "        'attach_monitor': 'false',\n",
    "        'latitude': camera.get('latitude'),\n",
    "        'longitude': camera.get('longitude'),\n",
    "    }\n",
    "    \n",
    "    for i in range(15):\n",
    "        data['name'] = f'{base_name} - {i + 1}'\n",
    "        res = requests.post(f'{AI_CAMERA_CLIENT_API_URL}/cameras', json=data)\n",
    "        \n",
    "        if not res.ok:\n",
    "            print('\\n\\n')\n",
    "            print(f'STATUS-CODE: {res.status_code} | TEXT: {res.text}')\n",
    "            print('\\n\\n')\n",
    "            \n",
    "    print(f'DONE: {cameras.index(camera) + 1} / {len(cameras)}', end='\\r')"
   ]
  }
 ],
 "metadata": {
  "kernelspec": {
   "display_name": "Python 3 (ipykernel)",
   "language": "python",
   "name": "python3"
  },
  "language_info": {
   "codemirror_mode": {
    "name": "ipython",
    "version": 3
   },
   "file_extension": ".py",
   "mimetype": "text/x-python",
   "name": "python",
   "nbconvert_exporter": "python",
   "pygments_lexer": "ipython3",
   "version": "3.13.0"
  }
 },
 "nbformat": 4,
 "nbformat_minor": 5
}
