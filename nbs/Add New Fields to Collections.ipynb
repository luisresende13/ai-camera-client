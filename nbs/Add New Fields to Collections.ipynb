{
 "cells": [
  {
   "cell_type": "markdown",
   "id": "cd133093-8912-4f17-95fa-ca7cbde8a081",
   "metadata": {},
   "source": [
    "#### Helper functions"
   ]
  },
  {
   "cell_type": "code",
   "execution_count": 1,
   "id": "000e3cfa-25b9-4621-9fa0-eebea0c37071",
   "metadata": {},
   "outputs": [
    {
     "data": {
      "text/plain": [
       "True"
      ]
     },
     "execution_count": 1,
     "metadata": {},
     "output_type": "execute_result"
    }
   ],
   "source": [
    "import os\n",
    "import requests\n",
    "from mongodb_client.mongodb import MongoDB\n",
    "\n",
    "MONGO_API_URL = 'https://mongo-api-871238133710.us-central1.run.app'\n",
    "mongodb = MongoDB(MONGO_API_URL)\n",
    "# auth = {'email': 'luisresende13@gmail.com', 'password': 'Gaia0333'}\n",
    "auth = {'email': 'sandbox-octacity@gmail.com', 'password': 'octa2023'}\n",
    "\n",
    "mongodb.signin(**auth)"
   ]
  },
  {
   "cell_type": "markdown",
   "id": "b574082e-fe9b-4b33-9461-2c11ab8e5eb5",
   "metadata": {},
   "source": [
    "### Add fields 'process' and 'inference_video_duration' for configs missing the fields"
   ]
  },
  {
   "cell_type": "code",
   "execution_count": 10,
   "id": "ce371193-04ed-4b28-b6e7-d3e7d23c52bb",
   "metadata": {},
   "outputs": [],
   "source": [
    "configs = mongodb.get_records('octacity', 'configs')\n",
    "\n",
    "for i in range(len(configs)):\n",
    "    config = configs[i]\n",
    "    if 'process' not in config or 'inference_video_duration' not in config:\n",
    "        update = {'process': 'yolo-detect-video', 'inference_video_duration': 5}\n",
    "        \n",
    "        result = mongodb.update_record('octacity', 'configs', config['_id'], update)\n",
    "        \n",
    "        if result['message'] == 'Record updated successfully':\n",
    "            configs[i] = {**config, **update}"
   ]
  }
 ],
 "metadata": {
  "kernelspec": {
   "display_name": "Python 3 (ipykernel)",
   "language": "python",
   "name": "python3"
  },
  "language_info": {
   "codemirror_mode": {
    "name": "ipython",
    "version": 3
   },
   "file_extension": ".py",
   "mimetype": "text/x-python",
   "name": "python",
   "nbconvert_exporter": "python",
   "pygments_lexer": "ipython3",
   "version": "3.13.0"
  }
 },
 "nbformat": 4,
 "nbformat_minor": 5
}
