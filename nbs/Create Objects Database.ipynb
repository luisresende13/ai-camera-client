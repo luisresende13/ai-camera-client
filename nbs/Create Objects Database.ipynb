{
 "cells": [
  {
   "cell_type": "markdown",
   "id": "8971b76a-62fd-4b92-99c8-a39e4a851065",
   "metadata": {},
   "source": [
    "## Merge object classes from different sources into single dataset"
   ]
  },
  {
   "cell_type": "code",
   "execution_count": 1,
   "id": "c141422e-899a-47c0-9351-7dab9ba1c81c",
   "metadata": {},
   "outputs": [
    {
     "name": "stdout",
     "output_type": "stream",
     "text": [
      "C:\\Users\\luisr\\Repositories\\Flask APIs\\ai-camera-client\n"
     ]
    }
   ],
   "source": [
    "cd ../"
   ]
  },
  {
   "cell_type": "markdown",
   "id": "475ce957-6b9d-44d4-a9c3-4b1c7a47496a",
   "metadata": {},
   "source": [
    "#### Save yolov8 class names"
   ]
  },
  {
   "cell_type": "code",
   "execution_count": 25,
   "id": "913ccc3b-dfe1-443c-bddb-0a3c0338a05f",
   "metadata": {},
   "outputs": [
    {
     "name": "stdout",
     "output_type": "stream",
     "text": [
      "WARNING ⚠️ 'source' is missing. Using 'source=C:\\Users\\luisr\\anaconda3\\Lib\\site-packages\\ultralytics\\assets'.\n",
      "\n",
      "image 1/2 C:\\Users\\luisr\\anaconda3\\Lib\\site-packages\\ultralytics\\assets\\bus.jpg: 640x480 4 persons, 1 bus, 1 stop sign, 122.0ms\n",
      "image 2/2 C:\\Users\\luisr\\anaconda3\\Lib\\site-packages\\ultralytics\\assets\\zidane.jpg: 384x640 2 persons, 1 tie, 126.4ms\n",
      "Speed: 3.0ms preprocess, 124.2ms inference, 1.0ms postprocess per image at shape (1, 3, 384, 640)\n",
      "\n",
      "Yolov8 names saved to: data/yolov8/yolov8.names\n"
     ]
    }
   ],
   "source": [
    "yolov8_names_path = 'data/yolov8/yolov8.names'\n",
    "\n",
    "from ultralytics import YOLO\n",
    "\n",
    "model = YOLO()\n",
    "\n",
    "results = model.predict()\n",
    "\n",
    "classes = results[0].names\n",
    "\n",
    "class_names = [classes[i] for i in sorted(list(classes.keys()))]\n",
    "\n",
    "with open(yolov8_names_path, 'w') as fw:\n",
    "    fw.write('\\n'.join(class_names))\n",
    "\n",
    "print('\\nYolov8 names saved to:', yolov8_names_path)"
   ]
  },
  {
   "cell_type": "markdown",
   "id": "45c1f894-2762-4a52-9838-733558f4987d",
   "metadata": {},
   "source": [
    "#### Construct obejct datasets independently for each model"
   ]
  },
  {
   "cell_type": "code",
   "execution_count": 2,
   "id": "863c2545-8269-4d6d-bf27-0d3003c91717",
   "metadata": {},
   "outputs": [],
   "source": [
    "import pandas as pd\n",
    "\n",
    "yolov4_names_path = 'data/yolov4/coco.names'\n",
    "yolov4_names = open(yolov4_names_path).read().split('\\n')\n",
    "\n",
    "objects_yolov4 = []\n",
    "for i in range(len(yolov4_names)):\n",
    "    obj = {\n",
    "        'class_id': i,\n",
    "        'class_name': yolov4_names[i],\n",
    "        'model_name': 'yolov4',\n",
    "        'process_name': 'yolov4'\n",
    "    }\n",
    "    objects_yolov4.append(obj)    \n",
    "\n",
    "yolov8_names_path = 'data/yolov8/yolov8.names'\n",
    "yolov8_names = open(yolov8_names_path).read().split('\\n')\n",
    "\n",
    "objects_yolov8 = []\n",
    "for i in range(len(yolov8_names)):\n",
    "    obj = {\n",
    "        'class_id': i,\n",
    "        'class_name': yolov8_names[i],\n",
    "        'model_name': 'yolov8',\n",
    "        'process_name': 'yolov8'\n",
    "    }\n",
    "    objects_yolov8.append(obj)"
   ]
  },
  {
   "cell_type": "markdown",
   "id": "f76051ba-9417-405b-9b73-27dc4968bd7e",
   "metadata": {},
   "source": [
    "#### Merge objects from different sources"
   ]
  },
  {
   "cell_type": "code",
   "execution_count": 8,
   "id": "4312ce91-ab29-497d-8df9-d2149a402ef4",
   "metadata": {},
   "outputs": [
    {
     "data": {
      "text/plain": [
       "[{'class_id': 0,\n",
       "  'class_name': 'person',\n",
       "  'model_name': 'yolov4',\n",
       "  'process_name': 'yolov4'},\n",
       " {'class_id': 1,\n",
       "  'class_name': 'bicycle',\n",
       "  'model_name': 'yolov4',\n",
       "  'process_name': 'yolov4'},\n",
       " {'class_id': 2,\n",
       "  'class_name': 'car',\n",
       "  'model_name': 'yolov4',\n",
       "  'process_name': 'yolov4'},\n",
       " {'class_id': 3,\n",
       "  'class_name': 'motorbike',\n",
       "  'model_name': 'yolov4',\n",
       "  'process_name': 'yolov4'},\n",
       " {'class_id': 4,\n",
       "  'class_name': 'aeroplane',\n",
       "  'model_name': 'yolov4',\n",
       "  'process_name': 'yolov4'}]"
      ]
     },
     "execution_count": 8,
     "metadata": {},
     "output_type": "execute_result"
    }
   ],
   "source": [
    "# Combine objects into single list\n",
    "objects = objects_yolov4 + objects_yolov8\n",
    "\n",
    "objects[:5]"
   ]
  },
  {
   "cell_type": "markdown",
   "id": "ab777928-91bc-4aaf-8ee9-d37515988108",
   "metadata": {},
   "source": [
    "---\n",
    "### Manage mongo database"
   ]
  },
  {
   "cell_type": "markdown",
   "id": "2e9315a7-69d3-4521-93a3-ac8ce95bd69b",
   "metadata": {},
   "source": [
    "#### Set connection parameters"
   ]
  },
  {
   "cell_type": "code",
   "execution_count": 4,
   "id": "313c7b14-aae2-45b1-a8b3-63e25eac1ca3",
   "metadata": {},
   "outputs": [],
   "source": [
    "MONGO_API_URL = 'http://localhost:5000'\n",
    "db = 'octacity'"
   ]
  },
  {
   "cell_type": "markdown",
   "id": "cd19854f-49e4-4ad9-9c21-79aaaafc5d88",
   "metadata": {},
   "source": [
    "#### Get mongo records"
   ]
  },
  {
   "cell_type": "code",
   "execution_count": 5,
   "id": "029c1a03-352e-471c-9d84-b0287967d62b",
   "metadata": {},
   "outputs": [
    {
     "name": "stdout",
     "output_type": "stream",
     "text": [
      "status: 200\n",
      "message: OK\n",
      "\n",
      " [{'_id': '661f087a58ed01b5246b2bdf', 'class_id': 0, 'class_name': 'person', 'model_name': 'yolov4', 'process_name': 'yolov4'}, {'_id': '661f087a58ed01b5246b2be0', 'class_id': 1, 'class_name': 'bicycle', 'model_name': 'yolov4', 'process_name': 'yolov4'}, {'_id': '661f087a58ed01b5246b2be1', 'class_id': 2, 'class_name': 'car', 'model_name': 'yolov4', 'process_name': 'yolov4'}, {'_id': '661f087a58ed01b5246b2be2', 'class_id': 3, 'class_name': 'motorbike', 'model_name': 'yolov4', 'process_name': 'yolov4'}, {'_id': '661f087a58ed01b5246b2be3', 'class_id': 4, 'class_name': 'aeroplane', 'model_name': 'yolov4', 'process_name': 'yolov4'}]\n"
     ]
    }
   ],
   "source": [
    "import requests\n",
    "\n",
    "url = f'{MONGO_API_URL}/{db}/objects'\n",
    "\n",
    "res = requests.get(url)\n",
    "\n",
    "print('status:', res.status_code)\n",
    "print('message:', res.reason)\n",
    "\n",
    "if res.ok:\n",
    "    objects_mongo = res.json()\n",
    "    print('\\n', objects_mongo[:5])"
   ]
  },
  {
   "cell_type": "markdown",
   "id": "ef0fc4fb-facc-41c9-94a1-15dcbe372ca9",
   "metadata": {},
   "source": [
    "#### Delte all records in mongo collection"
   ]
  },
  {
   "cell_type": "code",
   "execution_count": 6,
   "id": "6a3a2b54-bb24-45e7-9004-f9dff2af8582",
   "metadata": {},
   "outputs": [
    {
     "name": "stdout",
     "output_type": "stream",
     "text": [
      "status: 200\n",
      "message: OK\n",
      "response: {\"deleted_count\":182,\"message\":\"All records deleted successfully\"}\n",
      "\n"
     ]
    }
   ],
   "source": [
    "import requests\n",
    "\n",
    "url = f'{MONGO_API_URL}/{db}/objects'\n",
    "\n",
    "res = requests.delete(url)\n",
    "\n",
    "print('status:', res.status_code)\n",
    "print('message:', res.reason)\n",
    "print('response:', res.text)"
   ]
  },
  {
   "cell_type": "markdown",
   "id": "13a60dc7-9107-431f-b220-10f2a0a716ca",
   "metadata": {},
   "source": [
    "#### Post objects to mongo collection"
   ]
  },
  {
   "cell_type": "code",
   "execution_count": 9,
   "id": "9b5d0818-c3a9-4b47-a6c9-86bc23c018bf",
   "metadata": {},
   "outputs": [
    {
     "name": "stdout",
     "output_type": "stream",
     "text": [
      "status: 201\n",
      "message: CREATED\n",
      "response: {\"data\":[{\"_id\":\"661f57279e085933a10b57a8\",\"class_id\":0,\"class_name\":\"person\",\"model_name\":\"yolov4\",\"process_name\":\"yolov4\"},{\"_id\":\"661f57279e085933a10b57a9\",\"class_id\":1,\"class_name\":\"bicycle\",\"model_name\":\"yolov4\",\"process_name\":\"yolov4\"},{\"_id\":\"661f57279e085933a10b57aa\",\"class_id\":2,\"class_name\":\"car\",\"model_name\":\"yolov4\",\"process_name\":\"yolov4\"},{\"_id\":\"661f57279e085933a10b57ab\",\"class_id\":3,\"class_name\":\"motorbike\",\"model_name\":\"yolov4\",\"process_name\":\"yolov4\"},{\"_id\":\"661f57279e085933a10b57ac\",\"class_id\":4,\"class_name\":\"aeroplane\",\"model_name\":\"yolov4\",\"process_name\":\"yolov4\"},{\"_id\":\"661f57279e085933a10b57ad\",\"class_id\":5,\"class_name\":\"bus\",\"model_name\":\"yolov4\",\"process_name\":\"yolov4\"},{\"_id\":\"661f57279e085933a10b57ae\",\"class_id\":6,\"class_name\":\"train\",\"model_name\":\"yolov4\",\"process_name\":\"yolov4\"},{\"_id\":\"661f57279e085933a10b57af\",\"class_id\":7,\"class_name\":\"truck\",\"model_name\":\"yolov4\",\"process_name\":\"yolov4\"},{\"_id\":\"661f57279e085933a10b57b0\",\"class_id\":8,\"class_name\":\"boat\",\"model_name\":\"yolov4\",\"process_name\":\"yolov4\"},{\"_id\":\"661f57279e085933a10b57b1\",\"class_id\":9,\"class_name\":\"traffic light\",\"model_name\":\"yolov4\",\"process_name\":\"yolov4\"},{\"_id\":\"661f57279e085933a10b57b2\",\"class_id\":10,\"class_name\":\"fire hydrant\",\"model_name\":\"yolov4\",\"process_name\":\"yolov4\"},{\"_id\":\"661f57279e085933a10b57b3\",\"class_id\":11,\"class_name\":\"stop sign\",\"model_name\":\"yolov4\",\"process_name\":\"yolov4\"},{\"_id\":\"661f57279e085933a10b57b4\",\"class_id\":12,\"class_name\":\"parking meter\",\"model_name\":\"yolov4\",\"process_name\":\"yolov4\"},{\"_id\":\"661f57279e085933a10b57b5\",\"class_id\":13,\"class_name\":\"bench\",\"model_name\":\"yolov4\",\"process_name\":\"yolov4\"},{\"_id\":\"661f57279e085933a10b57b6\",\"class_id\":14,\"class_name\":\"bird\",\"model_name\":\"yolov4\",\"process_name\":\"yolov4\"},{\"_id\":\"661f57279e085933a10b57b7\",\"class_id\":15,\"class_name\":\"cat\",\"model_name\":\"yolov4\",\"process_name\":\"yolov4\"},{\"_id\":\"661f57279e085933a10b57b8\",\"class_id\":16,\"class_name\":\"dog\",\"model_name\":\"yolov4\",\"process_name\":\"yolov4\"},{\"_id\":\"661f57279e085933a10b57b9\",\"class_id\":17,\"class_name\":\"horse\",\"model_name\":\"yolov4\",\"process_name\":\"yolov4\"},{\"_id\":\"661f57279e085933a10b57ba\",\"class_id\":18,\"class_name\":\"sheep\",\"model_name\":\"yolov4\",\"process_name\":\"yolov4\"},{\"_id\":\"661f57279e085933a10b57bb\",\"class_id\":19,\"class_name\":\"cow\",\"model_name\":\"yolov4\",\"process_name\":\"yolov4\"},{\"_id\":\"661f57279e085933a10b57bc\",\"class_id\":20,\"class_name\":\"elephant\",\"model_name\":\"yolov4\",\"process_name\":\"yolov4\"},{\"_id\":\"661f57279e085933a10b57bd\",\"class_id\":21,\"class_name\":\"bear\",\"model_name\":\"yolov4\",\"process_name\":\"yolov4\"},{\"_id\":\"661f57279e085933a10b57be\",\"class_id\":22,\"class_name\":\"zebra\",\"model_name\":\"yolov4\",\"process_name\":\"yolov4\"},{\"_id\":\"661f57279e085933a10b57bf\",\"class_id\":23,\"class_name\":\"giraffe\",\"model_name\":\"yolov4\",\"process_name\":\"yolov4\"},{\"_id\":\"661f57279e085933a10b57c0\",\"class_id\":24,\"class_name\":\"backpack\",\"model_name\":\"yolov4\",\"process_name\":\"yolov4\"},{\"_id\":\"661f57279e085933a10b57c1\",\"class_id\":25,\"class_name\":\"umbrella\",\"model_name\":\"yolov4\",\"process_name\":\"yolov4\"},{\"_id\":\"661f57279e085933a10b57c2\",\"class_id\":26,\"class_name\":\"handbag\",\"model_name\":\"yolov4\",\"process_name\":\"yolov4\"},{\"_id\":\"661f57279e085933a10b57c3\",\"class_id\":27,\"class_name\":\"tie\",\"model_name\":\"yolov4\",\"process_name\":\"yolov4\"},{\"_id\":\"661f57279e085933a10b57c4\",\"class_id\":28,\"class_name\":\"suitcase\",\"model_name\":\"yolov4\",\"process_name\":\"yolov4\"},{\"_id\":\"661f57279e085933a10b57c5\",\"class_id\":29,\"class_name\":\"frisbee\",\"model_name\":\"yolov4\",\"process_name\":\"yolov4\"},{\"_id\":\"661f57279e085933a10b57c6\",\"class_id\":30,\"class_name\":\"skis\",\"model_name\":\"yolov4\",\"process_name\":\"yolov4\"},{\"_id\":\"661f57279e085933a10b57c7\",\"class_id\":31,\"class_name\":\"snowboard\",\"model_name\":\"yolov4\",\"process_name\":\"yolov4\"},{\"_id\":\"661f57279e085933a10b57c8\",\"class_id\":32,\"class_name\":\"sports ball\",\"model_name\":\"yolov4\",\"process_name\":\"yolov4\"},{\"_id\":\"661f57279e085933a10b57c9\",\"class_id\":33,\"class_name\":\"kite\",\"model_name\":\"yolov4\",\"process_name\":\"yolov4\"},{\"_id\":\"661f57279e085933a10b57ca\",\"class_id\":34,\"class_name\":\"baseball bat\",\"model_name\":\"yolov4\",\"process_name\":\"yolov4\"},{\"_id\":\"661f57279e085933a10b57cb\",\"class_id\":35,\"class_name\":\"baseball glove\",\"model_name\":\"yolov4\",\"process_name\":\"yolov4\"},{\"_id\":\"661f57279e085933a10b57cc\",\"class_id\":36,\"class_name\":\"skateboard\",\"model_name\":\"yolov4\",\"process_name\":\"yolov4\"},{\"_id\":\"661f57279e085933a10b57cd\",\"class_id\":37,\"class_name\":\"surfboard\",\"model_name\":\"yolov4\",\"process_name\":\"yolov4\"},{\"_id\":\"661f57279e085933a10b57ce\",\"class_id\":38,\"class_name\":\"tennis racket\",\"model_name\":\"yolov4\",\"process_name\":\"yolov4\"},{\"_id\":\"661f57279e085933a10b57cf\",\"class_id\":39,\"class_name\":\"bottle\",\"model_name\":\"yolov4\",\"process_name\":\"yolov4\"},{\"_id\":\"661f57279e085933a10b57d0\",\"class_id\":40,\"class_name\":\"wine glass\",\"model_name\":\"yolov4\",\"process_name\":\"yolov4\"},{\"_id\":\"661f57279e085933a10b57d1\",\"class_id\":41,\"class_name\":\"cup\",\"model_name\":\"yolov4\",\"process_name\":\"yolov4\"},{\"_id\":\"661f57279e085933a10b57d2\",\"class_id\":42,\"class_name\":\"fork\",\"model_name\":\"yolov4\",\"process_name\":\"yolov4\"},{\"_id\":\"661f57279e085933a10b57d3\",\"class_id\":43,\"class_name\":\"knife\",\"model_name\":\"yolov4\",\"process_name\":\"yolov4\"},{\"_id\":\"661f57279e085933a10b57d4\",\"class_id\":44,\"class_name\":\"spoon\",\"model_name\":\"yolov4\",\"process_name\":\"yolov4\"},{\"_id\":\"661f57279e085933a10b57d5\",\"class_id\":45,\"class_name\":\"bowl\",\"model_name\":\"yolov4\",\"process_name\":\"yolov4\"},{\"_id\":\"661f57279e085933a10b57d6\",\"class_id\":46,\"class_name\":\"banana\",\"model_name\":\"yolov4\",\"process_name\":\"yolov4\"},{\"_id\":\"661f57279e085933a10b57d7\",\"class_id\":47,\"class_name\":\"apple\",\"model_name\":\"yolov4\",\"process_name\":\"yolov4\"},{\"_id\":\"661f57279e085933a10b57d8\",\"class_id\":48,\"class_name\":\"sandwich\",\"model_name\":\"yolov4\",\"process_name\":\"yolov4\"},{\"_id\":\"661f57279e085933a10b57d9\",\"class_id\":49,\"class_name\":\"orange\",\"model_name\":\"yolov4\",\"process_name\":\"yolov4\"},{\"_id\":\"661f57279e085933a10b57da\",\"class_id\":50,\"class_name\":\"broccoli\",\"model_name\":\"yolov4\",\"process_name\":\"yolov4\"},{\"_id\":\"661f57279e085933a10b57db\",\"class_id\":51,\"class_name\":\"carrot\",\"model_name\":\"yolov4\",\"process_name\":\"yolov4\"},{\"_id\":\"661f57279e085933a10b57dc\",\"class_id\":52,\"class_name\":\"hot dog\",\"model_name\":\"yolov4\",\"process_name\":\"yolov4\"},{\"_id\":\"661f57279e085933a10b57dd\",\"class_id\":53,\"class_name\":\"pizza\",\"model_name\":\"yolov4\",\"process_name\":\"yolov4\"},{\"_id\":\"661f57279e085933a10b57de\",\"class_id\":54,\"class_name\":\"donut\",\"model_name\":\"yolov4\",\"process_name\":\"yolov4\"},{\"_id\":\"661f57279e085933a10b57df\",\"class_id\":55,\"class_name\":\"cake\",\"model_name\":\"yolov4\",\"process_name\":\"yolov4\"},{\"_id\":\"661f57279e085933a10b57e0\",\"class_id\":56,\"class_name\":\"chair\",\"model_name\":\"yolov4\",\"process_name\":\"yolov4\"},{\"_id\":\"661f57279e085933a10b57e1\",\"class_id\":57,\"class_name\":\"sofa\",\"model_name\":\"yolov4\",\"process_name\":\"yolov4\"},{\"_id\":\"661f57279e085933a10b57e2\",\"class_id\":58,\"class_name\":\"pottedplant\",\"model_name\":\"yolov4\",\"process_name\":\"yolov4\"},{\"_id\":\"661f57279e085933a10b57e3\",\"class_id\":59,\"class_name\":\"bed\",\"model_name\":\"yolov4\",\"process_name\":\"yolov4\"},{\"_id\":\"661f57279e085933a10b57e4\",\"class_id\":60,\"class_name\":\"diningtable\",\"model_name\":\"yolov4\",\"process_name\":\"yolov4\"},{\"_id\":\"661f57279e085933a10b57e5\",\"class_id\":61,\"class_name\":\"toilet\",\"model_name\":\"yolov4\",\"process_name\":\"yolov4\"},{\"_id\":\"661f57279e085933a10b57e6\",\"class_id\":62,\"class_name\":\"tvmonitor\",\"model_name\":\"yolov4\",\"process_name\":\"yolov4\"},{\"_id\":\"661f57279e085933a10b57e7\",\"class_id\":63,\"class_name\":\"laptop\",\"model_name\":\"yolov4\",\"process_name\":\"yolov4\"},{\"_id\":\"661f57279e085933a10b57e8\",\"class_id\":64,\"class_name\":\"mouse\",\"model_name\":\"yolov4\",\"process_name\":\"yolov4\"},{\"_id\":\"661f57279e085933a10b57e9\",\"class_id\":65,\"class_name\":\"remote\",\"model_name\":\"yolov4\",\"process_name\":\"yolov4\"},{\"_id\":\"661f57279e085933a10b57ea\",\"class_id\":66,\"class_name\":\"keyboard\",\"model_name\":\"yolov4\",\"process_name\":\"yolov4\"},{\"_id\":\"661f57279e085933a10b57eb\",\"class_id\":67,\"class_name\":\"cell phone\",\"model_name\":\"yolov4\",\"process_name\":\"yolov4\"},{\"_id\":\"661f57279e085933a10b57ec\",\"class_id\":68,\"class_name\":\"microwave\",\"model_name\":\"yolov4\",\"process_name\":\"yolov4\"},{\"_id\":\"661f57279e085933a10b57ed\",\"class_id\":69,\"class_name\":\"oven\",\"model_name\":\"yolov4\",\"process_name\":\"yolov4\"},{\"_id\":\"661f57279e085933a10b57ee\",\"class_id\":70,\"class_name\":\"toaster\",\"model_name\":\"yolov4\",\"process_name\":\"yolov4\"},{\"_id\":\"661f57279e085933a10b57ef\",\"class_id\":71,\"class_name\":\"sink\",\"model_name\":\"yolov4\",\"process_name\":\"yolov4\"},{\"_id\":\"661f57279e085933a10b57f0\",\"class_id\":72,\"class_name\":\"refrigerator\",\"model_name\":\"yolov4\",\"process_name\":\"yolov4\"},{\"_id\":\"661f57279e085933a10b57f1\",\"class_id\":73,\"class_name\":\"book\",\"model_name\":\"yolov4\",\"process_name\":\"yolov4\"},{\"_id\":\"661f57279e085933a10b57f2\",\"class_id\":74,\"class_name\":\"clock\",\"model_name\":\"yolov4\",\"process_name\":\"yolov4\"},{\"_id\":\"661f57279e085933a10b57f3\",\"class_id\":75,\"class_name\":\"vase\",\"model_name\":\"yolov4\",\"process_name\":\"yolov4\"},{\"_id\":\"661f57279e085933a10b57f4\",\"class_id\":76,\"class_name\":\"scissors\",\"model_name\":\"yolov4\",\"process_name\":\"yolov4\"},{\"_id\":\"661f57279e085933a10b57f5\",\"class_id\":77,\"class_name\":\"teddy bear\",\"model_name\":\"yolov4\",\"process_name\":\"yolov4\"},{\"_id\":\"661f57279e085933a10b57f6\",\"class_id\":78,\"class_name\":\"hair drier\",\"model_name\":\"yolov4\",\"process_name\":\"yolov4\"},{\"_id\":\"661f57279e085933a10b57f7\",\"class_id\":79,\"class_name\":\"toothbrush\",\"model_name\":\"yolov4\",\"process_name\":\"yolov4\"},{\"_id\":\"661f57279e085933a10b57f8\",\"class_id\":80,\"class_name\":\"\",\"model_name\":\"yolov4\",\"process_name\":\"yolov4\"},{\"_id\":\"661f57279e085933a10b57f9\",\"class_id\":0,\"class_name\":\"person\",\"model_name\":\"yolov8\",\"process_name\":\"yolov8\"},{\"_id\":\"661f57279e085933a10b57fa\",\"class_id\":1,\"class_name\":\"bicycle\",\"model_name\":\"yolov8\",\"process_name\":\"yolov8\"},{\"_id\":\"661f57279e085933a10b57fb\",\"class_id\":2,\"class_name\":\"car\",\"model_name\":\"yolov8\",\"process_name\":\"yolov8\"},{\"_id\":\"661f57279e085933a10b57fc\",\"class_id\":3,\"class_name\":\"motorcycle\",\"model_name\":\"yolov8\",\"process_name\":\"yolov8\"},{\"_id\":\"661f57279e085933a10b57fd\",\"class_id\":4,\"class_name\":\"airplane\",\"model_name\":\"yolov8\",\"process_name\":\"yolov8\"},{\"_id\":\"661f57279e085933a10b57fe\",\"class_id\":5,\"class_name\":\"bus\",\"model_name\":\"yolov8\",\"process_name\":\"yolov8\"},{\"_id\":\"661f57279e085933a10b57ff\",\"class_id\":6,\"class_name\":\"train\",\"model_name\":\"yolov8\",\"process_name\":\"yolov8\"},{\"_id\":\"661f57279e085933a10b5800\",\"class_id\":7,\"class_name\":\"truck\",\"model_name\":\"yolov8\",\"process_name\":\"yolov8\"},{\"_id\":\"661f57279e085933a10b5801\",\"class_id\":8,\"class_name\":\"boat\",\"model_name\":\"yolov8\",\"process_name\":\"yolov8\"},{\"_id\":\"661f57279e085933a10b5802\",\"class_id\":9,\"class_name\":\"traffic light\",\"model_name\":\"yolov8\",\"process_name\":\"yolov8\"},{\"_id\":\"661f57279e085933a10b5803\",\"class_id\":10,\"class_name\":\"fire hydrant\",\"model_name\":\"yolov8\",\"process_name\":\"yolov8\"},{\"_id\":\"661f57279e085933a10b5804\",\"class_id\":11,\"class_name\":\"stop sign\",\"model_name\":\"yolov8\",\"process_name\":\"yolov8\"},{\"_id\":\"661f57279e085933a10b5805\",\"class_id\":12,\"class_name\":\"parking meter\",\"model_name\":\"yolov8\",\"process_name\":\"yolov8\"},{\"_id\":\"661f57279e085933a10b5806\",\"class_id\":13,\"class_name\":\"bench\",\"model_name\":\"yolov8\",\"process_name\":\"yolov8\"},{\"_id\":\"661f57279e085933a10b5807\",\"class_id\":14,\"class_name\":\"bird\",\"model_name\":\"yolov8\",\"process_name\":\"yolov8\"},{\"_id\":\"661f57279e085933a10b5808\",\"class_id\":15,\"class_name\":\"cat\",\"model_name\":\"yolov8\",\"process_name\":\"yolov8\"},{\"_id\":\"661f57279e085933a10b5809\",\"class_id\":16,\"class_name\":\"dog\",\"model_name\":\"yolov8\",\"process_name\":\"yolov8\"},{\"_id\":\"661f57279e085933a10b580a\",\"class_id\":17,\"class_name\":\"horse\",\"model_name\":\"yolov8\",\"process_name\":\"yolov8\"},{\"_id\":\"661f57279e085933a10b580b\",\"class_id\":18,\"class_name\":\"sheep\",\"model_name\":\"yolov8\",\"process_name\":\"yolov8\"},{\"_id\":\"661f57279e085933a10b580c\",\"class_id\":19,\"class_name\":\"cow\",\"model_name\":\"yolov8\",\"process_name\":\"yolov8\"},{\"_id\":\"661f57279e085933a10b580d\",\"class_id\":20,\"class_name\":\"elephant\",\"model_name\":\"yolov8\",\"process_name\":\"yolov8\"},{\"_id\":\"661f57279e085933a10b580e\",\"class_id\":21,\"class_name\":\"bear\",\"model_name\":\"yolov8\",\"process_name\":\"yolov8\"},{\"_id\":\"661f57279e085933a10b580f\",\"class_id\":22,\"class_name\":\"zebra\",\"model_name\":\"yolov8\",\"process_name\":\"yolov8\"},{\"_id\":\"661f57279e085933a10b5810\",\"class_id\":23,\"class_name\":\"giraffe\",\"model_name\":\"yolov8\",\"process_name\":\"yolov8\"},{\"_id\":\"661f57279e085933a10b5811\",\"class_id\":24,\"class_name\":\"backpack\",\"model_name\":\"yolov8\",\"process_name\":\"yolov8\"},{\"_id\":\"661f57279e085933a10b5812\",\"class_id\":25,\"class_name\":\"umbrella\",\"model_name\":\"yolov8\",\"process_name\":\"yolov8\"},{\"_id\":\"661f57279e085933a10b5813\",\"class_id\":26,\"class_name\":\"handbag\",\"model_name\":\"yolov8\",\"process_name\":\"yolov8\"},{\"_id\":\"661f57279e085933a10b5814\",\"class_id\":27,\"class_name\":\"tie\",\"model_name\":\"yolov8\",\"process_name\":\"yolov8\"},{\"_id\":\"661f57279e085933a10b5815\",\"class_id\":28,\"class_name\":\"suitcase\",\"model_name\":\"yolov8\",\"process_name\":\"yolov8\"},{\"_id\":\"661f57279e085933a10b5816\",\"class_id\":29,\"class_name\":\"frisbee\",\"model_name\":\"yolov8\",\"process_name\":\"yolov8\"},{\"_id\":\"661f57279e085933a10b5817\",\"class_id\":30,\"class_name\":\"skis\",\"model_name\":\"yolov8\",\"process_name\":\"yolov8\"},{\"_id\":\"661f57279e085933a10b5818\",\"class_id\":31,\"class_name\":\"snowboard\",\"model_name\":\"yolov8\",\"process_name\":\"yolov8\"},{\"_id\":\"661f57279e085933a10b5819\",\"class_id\":32,\"class_name\":\"sports ball\",\"model_name\":\"yolov8\",\"process_name\":\"yolov8\"},{\"_id\":\"661f57279e085933a10b581a\",\"class_id\":33,\"class_name\":\"kite\",\"model_name\":\"yolov8\",\"process_name\":\"yolov8\"},{\"_id\":\"661f57279e085933a10b581b\",\"class_id\":34,\"class_name\":\"baseball bat\",\"model_name\":\"yolov8\",\"process_name\":\"yolov8\"},{\"_id\":\"661f57279e085933a10b581c\",\"class_id\":35,\"class_name\":\"baseball glove\",\"model_name\":\"yolov8\",\"process_name\":\"yolov8\"},{\"_id\":\"661f57279e085933a10b581d\",\"class_id\":36,\"class_name\":\"skateboard\",\"model_name\":\"yolov8\",\"process_name\":\"yolov8\"},{\"_id\":\"661f57279e085933a10b581e\",\"class_id\":37,\"class_name\":\"surfboard\",\"model_name\":\"yolov8\",\"process_name\":\"yolov8\"},{\"_id\":\"661f57279e085933a10b581f\",\"class_id\":38,\"class_name\":\"tennis racket\",\"model_name\":\"yolov8\",\"process_name\":\"yolov8\"},{\"_id\":\"661f57279e085933a10b5820\",\"class_id\":39,\"class_name\":\"bottle\",\"model_name\":\"yolov8\",\"process_name\":\"yolov8\"},{\"_id\":\"661f57279e085933a10b5821\",\"class_id\":40,\"class_name\":\"wine glass\",\"model_name\":\"yolov8\",\"process_name\":\"yolov8\"},{\"_id\":\"661f57279e085933a10b5822\",\"class_id\":41,\"class_name\":\"cup\",\"model_name\":\"yolov8\",\"process_name\":\"yolov8\"},{\"_id\":\"661f57279e085933a10b5823\",\"class_id\":42,\"class_name\":\"fork\",\"model_name\":\"yolov8\",\"process_name\":\"yolov8\"},{\"_id\":\"661f57279e085933a10b5824\",\"class_id\":43,\"class_name\":\"knife\",\"model_name\":\"yolov8\",\"process_name\":\"yolov8\"},{\"_id\":\"661f57279e085933a10b5825\",\"class_id\":44,\"class_name\":\"spoon\",\"model_name\":\"yolov8\",\"process_name\":\"yolov8\"},{\"_id\":\"661f57279e085933a10b5826\",\"class_id\":45,\"class_name\":\"bowl\",\"model_name\":\"yolov8\",\"process_name\":\"yolov8\"},{\"_id\":\"661f57279e085933a10b5827\",\"class_id\":46,\"class_name\":\"banana\",\"model_name\":\"yolov8\",\"process_name\":\"yolov8\"},{\"_id\":\"661f57279e085933a10b5828\",\"class_id\":47,\"class_name\":\"apple\",\"model_name\":\"yolov8\",\"process_name\":\"yolov8\"},{\"_id\":\"661f57279e085933a10b5829\",\"class_id\":48,\"class_name\":\"sandwich\",\"model_name\":\"yolov8\",\"process_name\":\"yolov8\"},{\"_id\":\"661f57279e085933a10b582a\",\"class_id\":49,\"class_name\":\"orange\",\"model_name\":\"yolov8\",\"process_name\":\"yolov8\"},{\"_id\":\"661f57279e085933a10b582b\",\"class_id\":50,\"class_name\":\"broccoli\",\"model_name\":\"yolov8\",\"process_name\":\"yolov8\"},{\"_id\":\"661f57279e085933a10b582c\",\"class_id\":51,\"class_name\":\"carrot\",\"model_name\":\"yolov8\",\"process_name\":\"yolov8\"},{\"_id\":\"661f57279e085933a10b582d\",\"class_id\":52,\"class_name\":\"hot dog\",\"model_name\":\"yolov8\",\"process_name\":\"yolov8\"},{\"_id\":\"661f57279e085933a10b582e\",\"class_id\":53,\"class_name\":\"pizza\",\"model_name\":\"yolov8\",\"process_name\":\"yolov8\"},{\"_id\":\"661f57279e085933a10b582f\",\"class_id\":54,\"class_name\":\"donut\",\"model_name\":\"yolov8\",\"process_name\":\"yolov8\"},{\"_id\":\"661f57279e085933a10b5830\",\"class_id\":55,\"class_name\":\"cake\",\"model_name\":\"yolov8\",\"process_name\":\"yolov8\"},{\"_id\":\"661f57279e085933a10b5831\",\"class_id\":56,\"class_name\":\"chair\",\"model_name\":\"yolov8\",\"process_name\":\"yolov8\"},{\"_id\":\"661f57279e085933a10b5832\",\"class_id\":57,\"class_name\":\"couch\",\"model_name\":\"yolov8\",\"process_name\":\"yolov8\"},{\"_id\":\"661f57279e085933a10b5833\",\"class_id\":58,\"class_name\":\"potted plant\",\"model_name\":\"yolov8\",\"process_name\":\"yolov8\"},{\"_id\":\"661f57279e085933a10b5834\",\"class_id\":59,\"class_name\":\"bed\",\"model_name\":\"yolov8\",\"process_name\":\"yolov8\"},{\"_id\":\"661f57279e085933a10b5835\",\"class_id\":60,\"class_name\":\"dining table\",\"model_name\":\"yolov8\",\"process_name\":\"yolov8\"},{\"_id\":\"661f57279e085933a10b5836\",\"class_id\":61,\"class_name\":\"toilet\",\"model_name\":\"yolov8\",\"process_name\":\"yolov8\"},{\"_id\":\"661f57279e085933a10b5837\",\"class_id\":62,\"class_name\":\"tv\",\"model_name\":\"yolov8\",\"process_name\":\"yolov8\"},{\"_id\":\"661f57279e085933a10b5838\",\"class_id\":63,\"class_name\":\"laptop\",\"model_name\":\"yolov8\",\"process_name\":\"yolov8\"},{\"_id\":\"661f57279e085933a10b5839\",\"class_id\":64,\"class_name\":\"mouse\",\"model_name\":\"yolov8\",\"process_name\":\"yolov8\"},{\"_id\":\"661f57279e085933a10b583a\",\"class_id\":65,\"class_name\":\"remote\",\"model_name\":\"yolov8\",\"process_name\":\"yolov8\"},{\"_id\":\"661f57279e085933a10b583b\",\"class_id\":66,\"class_name\":\"keyboard\",\"model_name\":\"yolov8\",\"process_name\":\"yolov8\"},{\"_id\":\"661f57279e085933a10b583c\",\"class_id\":67,\"class_name\":\"cell phone\",\"model_name\":\"yolov8\",\"process_name\":\"yolov8\"},{\"_id\":\"661f57279e085933a10b583d\",\"class_id\":68,\"class_name\":\"microwave\",\"model_name\":\"yolov8\",\"process_name\":\"yolov8\"},{\"_id\":\"661f57279e085933a10b583e\",\"class_id\":69,\"class_name\":\"oven\",\"model_name\":\"yolov8\",\"process_name\":\"yolov8\"},{\"_id\":\"661f57279e085933a10b583f\",\"class_id\":70,\"class_name\":\"toaster\",\"model_name\":\"yolov8\",\"process_name\":\"yolov8\"},{\"_id\":\"661f57279e085933a10b5840\",\"class_id\":71,\"class_name\":\"sink\",\"model_name\":\"yolov8\",\"process_name\":\"yolov8\"},{\"_id\":\"661f57279e085933a10b5841\",\"class_id\":72,\"class_name\":\"refrigerator\",\"model_name\":\"yolov8\",\"process_name\":\"yolov8\"},{\"_id\":\"661f57279e085933a10b5842\",\"class_id\":73,\"class_name\":\"book\",\"model_name\":\"yolov8\",\"process_name\":\"yolov8\"},{\"_id\":\"661f57279e085933a10b5843\",\"class_id\":74,\"class_name\":\"clock\",\"model_name\":\"yolov8\",\"process_name\":\"yolov8\"},{\"_id\":\"661f57279e085933a10b5844\",\"class_id\":75,\"class_name\":\"vase\",\"model_name\":\"yolov8\",\"process_name\":\"yolov8\"},{\"_id\":\"661f57279e085933a10b5845\",\"class_id\":76,\"class_name\":\"scissors\",\"model_name\":\"yolov8\",\"process_name\":\"yolov8\"},{\"_id\":\"661f57279e085933a10b5846\",\"class_id\":77,\"class_name\":\"teddy bear\",\"model_name\":\"yolov8\",\"process_name\":\"yolov8\"},{\"_id\":\"661f57279e085933a10b5847\",\"class_id\":78,\"class_name\":\"hair drier\",\"model_name\":\"yolov8\",\"process_name\":\"yolov8\"},{\"_id\":\"661f57279e085933a10b5848\",\"class_id\":79,\"class_name\":\"toothbrush\",\"model_name\":\"yolov8\",\"process_name\":\"yolov8\"}],\"message\":\"Record(s) created successfully\"}\n",
      "\n"
     ]
    }
   ],
   "source": [
    "collection_name = 'classes'\n",
    "\n",
    "import requests\n",
    "\n",
    "url = f'{MONGO_API_URL}/{db}/{collection_name}'\n",
    "headers = {'Content-Type': 'application/json'}\n",
    "data = objects.copy()\n",
    "# data = objects_yolov4.copy()\n",
    "\n",
    "res = requests.post(url, headers=headers, json=data)\n",
    "\n",
    "print('status:', res.status_code)\n",
    "print('message:', res.reason)\n",
    "print('response:', res.text)"
   ]
  }
 ],
 "metadata": {
  "kernelspec": {
   "display_name": "Python 3 (ipykernel)",
   "language": "python",
   "name": "python3"
  },
  "language_info": {
   "codemirror_mode": {
    "name": "ipython",
    "version": 3
   },
   "file_extension": ".py",
   "mimetype": "text/x-python",
   "name": "python",
   "nbconvert_exporter": "python",
   "pygments_lexer": "ipython3",
   "version": "3.11.7"
  }
 },
 "nbformat": 4,
 "nbformat_minor": 5
}
