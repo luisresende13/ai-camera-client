{
 "cells": [
  {
   "cell_type": "markdown",
   "id": "74c0da4e-c301-40a5-b4b1-b3e66e3fe2a0",
   "metadata": {},
   "source": [
    "#### helper functions"
   ]
  },
  {
   "cell_type": "code",
   "execution_count": 17,
   "id": "3b933c60-0dac-4dad-806b-c687b8b98d3c",
   "metadata": {},
   "outputs": [],
   "source": [
    "import os\n",
    "import requests\n",
    "\n",
    "MONGO_API_URL = os.environ['MONGO_API_URL']\n",
    "CLOUD_SCHEDULER_API_URL = os.environ['CLOUD_SCHEDULER_API_URL']\n",
    "SCHEDULER_PROJECT_ID = os.environ['SCHEDULER_PROJECT_ID']\n",
    "SCHEDULER_LOCATION = os.environ['SCHEDULER_LOCATION']\n",
    "\n",
    "def list_configs():\n",
    "    url = f'{MONGO_API_URL}/octacity/configs'\n",
    "    \n",
    "    res = requests.get(url)\n",
    "    \n",
    "    print('status_code:', res.status_code)\n",
    "    print('message:', res.reason)\n",
    "    if res.ok:\n",
    "        return res.json()\n",
    "\n",
    "def list_jobs():\n",
    "    params = {\n",
    "        'project_id': SCHEDULER_PROJECT_ID,\n",
    "        'location': SCHEDULER_LOCATION,\n",
    "    }\n",
    "    \n",
    "    url = f'{CLOUD_SCHEDULER_API_URL}/jobs/list'\n",
    "    res = requests.get(url, params=params)\n",
    "    \n",
    "    print('status_code:', res.status_code)\n",
    "    print('message:', res.reason)\n",
    "    if res.ok:\n",
    "        return res.json()\n"
   ]
  },
  {
   "cell_type": "markdown",
   "id": "0d02a67e-57e5-4e5a-aa16-67dc62b65e82",
   "metadata": {},
   "source": [
    "#### List configurations"
   ]
  },
  {
   "cell_type": "code",
   "execution_count": 13,
   "id": "d9ccca4e-d4cc-41db-8310-7740b8bbef3d",
   "metadata": {},
   "outputs": [
    {
     "name": "stdout",
     "output_type": "stream",
     "text": [
      "status_code: 200\n",
      "message: OK\n"
     ]
    },
    {
     "data": {
      "text/plain": [
       "[{'_id': '6602657da0a5fa035fadef78',\n",
       "  'camera_id': 'example_camera',\n",
       "  'object_id': 'example_object',\n",
       "  'schedule': '0 15 * * *',\n",
       "  'user_id': 'example_user'},\n",
       " {'_id': '66030dca1e47d667cf3579a1',\n",
       "  'camera_id': 'example_camera',\n",
       "  'object_id': 'example_object',\n",
       "  'schedule': '0 15 * * *',\n",
       "  'user_id': 'example_user'}]"
      ]
     },
     "execution_count": 13,
     "metadata": {},
     "output_type": "execute_result"
    }
   ],
   "source": [
    "list_configs()"
   ]
  },
  {
   "cell_type": "markdown",
   "id": "505997b7-d80d-4425-8948-136c40bf1299",
   "metadata": {},
   "source": [
    "#### List jobs:"
   ]
  },
  {
   "cell_type": "code",
   "execution_count": 14,
   "id": "c38bd004-e709-4cc9-9f56-176f078f7948",
   "metadata": {},
   "outputs": [
    {
     "name": "stdout",
     "output_type": "stream",
     "text": [
      "status_code: 200\n",
      "message: OK\n"
     ]
    },
    {
     "data": {
      "text/plain": [
       "[{'http_target': {'http_method': 2,\n",
       "   'uri': 'http://34.30.78.129:5006/process_stream_config?config_id=66030dca1e47d667cf3579a1'},\n",
       "  'name': 'projects/octacity-413119/locations/us-central1/jobs/config-66030dca1e47d667cf3579a1',\n",
       "  'schedule': '0 15 * * *',\n",
       "  'time_zone': 'America/Sao_Paulo'},\n",
       " {'http_target': {'http_method': 1,\n",
       "   'uri': 'https://octa-api-veuei2iu4q-uc.a.run.app/alertario/instance_switch'},\n",
       "  'name': 'projects/octacity-413119/locations/us-central1/jobs/instance-switch',\n",
       "  'schedule': '0 */2 * * *',\n",
       "  'time_zone': 'America/Sao_Paulo'},\n",
       " {'http_target': {'http_method': 1,\n",
       "   'uri': 'https://octa-api-veuei2iu4q-uc.a.run.app/alertario/job_switch'},\n",
       "  'name': 'projects/octacity-413119/locations/us-central1/jobs/job-switch',\n",
       "  'schedule': '0 */2 * * *',\n",
       "  'time_zone': 'America/Sao_Paulo'},\n",
       " {'http_target': {'http_method': 2,\n",
       "   'uri': 'https://octa-api-veuei2iu4q-uc.a.run.app/tasks/post/polygons/cameras/flood_classification?max_frames=25&process_each=6&process=flood-classification-yolo&max_threads=20&confidence=0.60&db=Waterbag&coll=CameraFloodClassification&overwrite=true'},\n",
       "  'name': 'projects/octacity-413119/locations/us-central1/jobs/post-camera-flood',\n",
       "  'schedule': '*/10 * * * *',\n",
       "  'time_zone': 'America/Sao_Paulo'},\n",
       " {'http_target': {'http_method': 2,\n",
       "   'uri': 'https://octa-api-veuei2iu4q-uc.a.run.app/tasks/post/cameras/alertario/stations?db=Waterbag&coll=CamerasClosestPluviometers&overwrite=true'},\n",
       "  'name': 'projects/octacity-413119/locations/us-central1/jobs/post-cameras-closest-pluviometers',\n",
       "  'schedule': '*/1 * * * *',\n",
       "  'time_zone': 'America/Sao_Paulo'},\n",
       " {'http_target': {'http_method': 2,\n",
       "   'uri': 'https://octa-api-veuei2iu4q-uc.a.run.app/tasks/post/clusters?db=Waterbag&coll=Polygons&overwrite=false'},\n",
       "  'name': 'projects/octacity-413119/locations/us-central1/jobs/post-polygons',\n",
       "  'schedule': '*/2 * * * *',\n",
       "  'time_zone': 'America/Sao_Paulo'},\n",
       " {'http_target': {'http_method': 2,\n",
       "   'uri': 'https://octa-api-veuei2iu4q-uc.a.run.app/tasks/post/predict/live?db=Waterbag&coll=Prediction&overwrite=false&as_datetime=timestamp'},\n",
       "  'name': 'projects/octacity-413119/locations/us-central1/jobs/post-predict',\n",
       "  'schedule': '*/5 * * * *',\n",
       "  'time_zone': 'America/Sao_Paulo'},\n",
       " {'http_target': {'http_method': 1,\n",
       "   'uri': 'https://cams-rio-veuei2iu4q-uc.a.run.app/record/points'},\n",
       "  'name': 'projects/octacity-413119/locations/us-central1/jobs/record-comando',\n",
       "  'schedule': '*/3 * * * *',\n",
       "  'time_zone': 'America/Sao_Paulo'},\n",
       " {'http_target': {'http_method': 1,\n",
       "   'uri': 'https://cams-rio-veuei2iu4q-uc.a.run.app/record/points'},\n",
       "  'name': 'projects/octacity-413119/locations/us-central1/jobs/record-polygons',\n",
       "  'schedule': '*/3 * * * *',\n",
       "  'time_zone': 'America/Sao_Paulo'}]"
      ]
     },
     "execution_count": 14,
     "metadata": {},
     "output_type": "execute_result"
    }
   ],
   "source": [
    "list_jobs()"
   ]
  },
  {
   "cell_type": "markdown",
   "id": "1320baee-7f6f-45a4-b318-51e638c414b2",
   "metadata": {},
   "source": [
    "#### Post AI task configuration"
   ]
  },
  {
   "cell_type": "code",
   "execution_count": 11,
   "id": "81205108-7e76-426d-8f34-abaaaaabd62b",
   "metadata": {},
   "outputs": [
    {
     "name": "stdout",
     "output_type": "stream",
     "text": [
      "Response status code: 201\n",
      "Response body: {'detail': 'Configuration object created and job created successfully', 'message': 'OK', 'ok': True, 'status_code': 200}\n"
     ]
    }
   ],
   "source": [
    "import requests\n",
    "\n",
    "AI_CAMERA_CLIENT_URL = 'http://localhost:8080'\n",
    "\n",
    "# Define the endpoint URL\n",
    "endpoint_url = f\"{AI_CAMERA_CLIENT_URL}/config\"\n",
    "\n",
    "# Example data to be sent in the request\n",
    "data = {\n",
    "    \"user_id\": \"example_user\",\n",
    "    \"camera_id\": \"example_camera\",\n",
    "    \"object_id\": \"example_object\",\n",
    "    \"schedule\": \"0 15 * * *\"\n",
    "}\n",
    "\n",
    "# Make a POST request to the endpoint with the example data\n",
    "response = requests.post(endpoint_url, json=data)\n",
    "\n",
    "# Print the response\n",
    "print(\"Response status code:\", response.status_code)\n",
    "print(\"Response body:\", response.json())\n"
   ]
  },
  {
   "cell_type": "markdown",
   "id": "684f6ab8-3cd3-45ba-a59a-ef1239b1a869",
   "metadata": {},
   "source": [
    "#### List configs and jobs"
   ]
  },
  {
   "cell_type": "code",
   "execution_count": null,
   "id": "f950e85a-7b1a-4f3c-bf6f-4abeeb28c12a",
   "metadata": {},
   "outputs": [
    {
     "name": "stdout",
     "output_type": "stream",
     "text": [
      "status_code: 200\n",
      "message: OK\n",
      "[{'_id': '6602657da0a5fa035fadef78', 'camera_id': 'example_camera', 'object_id': 'example_object', 'schedule': '0 15 * * *', 'user_id': 'example_user'}, {'_id': '66030dca1e47d667cf3579a1', 'camera_id': 'example_camera', 'object_id': 'example_object', 'schedule': '0 15 * * *', 'user_id': 'example_user'}]\n",
      "\n"
     ]
    }
   ],
   "source": [
    "configs = list_configs()\n",
    "print(configs)\n",
    "print()\n",
    "jobs = list_jobs()\n",
    "print(jobs)"
   ]
  }
 ],
 "metadata": {
  "kernelspec": {
   "display_name": "Python 3 (ipykernel)",
   "language": "python",
   "name": "python3"
  },
  "language_info": {
   "codemirror_mode": {
    "name": "ipython",
    "version": 3
   },
   "file_extension": ".py",
   "mimetype": "text/x-python",
   "name": "python",
   "nbconvert_exporter": "python",
   "pygments_lexer": "ipython3",
   "version": "3.11.7"
  }
 },
 "nbformat": 4,
 "nbformat_minor": 5
}
