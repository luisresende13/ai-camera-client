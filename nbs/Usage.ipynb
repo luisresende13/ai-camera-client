{
 "cells": [
  {
   "cell_type": "markdown",
   "id": "74c0da4e-c301-40a5-b4b1-b3e66e3fe2a0",
   "metadata": {},
   "source": [
    "#### Helper functions"
   ]
  },
  {
   "cell_type": "code",
   "execution_count": 5,
   "id": "3b933c60-0dac-4dad-806b-c687b8b98d3c",
   "metadata": {},
   "outputs": [],
   "source": [
    "import os\n",
    "import requests\n",
    "\n",
    "# MONGO_API_URL = os.environ['MONGO_API_URL']\n",
    "# CLOUD_SCHEDULER_API_URL = os.environ['CLOUD_SCHEDULER_API_URL']\n",
    "# SCHEDULER_PROJECT_ID = os.environ['SCHEDULER_PROJECT_ID']\n",
    "# SCHEDULER_LOCATION = os.environ['SCHEDULER_LOCATION']\n",
    "# AI_CAMERA_CLIENT_API_URL = os.environ['AI_CAMERA_CLIENT_API_URL']\n",
    "\n",
    "def list_configs():\n",
    "    url = f'{MONGO_API_URL}/octacity/configs'\n",
    "    res = requests.get(url)\n",
    "    \n",
    "    print('status_code:', res.status_code)\n",
    "    print('message:', res.reason)\n",
    "    if res.ok:\n",
    "        return res.json()\n",
    "\n",
    "def list_jobs():\n",
    "    params = {\n",
    "        'project_id': SCHEDULER_PROJECT_ID,\n",
    "        'location': SCHEDULER_LOCATION,\n",
    "    }\n",
    "    url = f'{CLOUD_SCHEDULER_API_URL}/jobs/list'\n",
    "    res = requests.get(url, params=params)\n",
    "    \n",
    "    print('status_code:', res.status_code)\n",
    "    print('message:', res.reason)\n",
    "    if res.ok:\n",
    "        return res.json()\n"
   ]
  },
  {
   "cell_type": "markdown",
   "id": "fe449729-ff22-44d2-b505-f76f015e385f",
   "metadata": {},
   "source": [
    "#### List configs and jobs"
   ]
  },
  {
   "cell_type": "code",
   "execution_count": 6,
   "id": "ad93acc5-c31b-43f0-ac4c-1e4989ccd82f",
   "metadata": {},
   "outputs": [
    {
     "name": "stdout",
     "output_type": "stream",
     "text": [
      "status_code: 200\n",
      "message: OK\n"
     ]
    },
    {
     "data": {
      "text/plain": [
       "[{'_id': '660ba096b7f0fe65b426074b',\n",
       "  'camera_id': '660ba08ebd078b662d5dc195',\n",
       "  'object_id': '0,1,2,3,4',\n",
       "  'schedule': '*/30 * * * *',\n",
       "  'user_id': '66065f62e8005b6e641b4165'},\n",
       " {'_id': '661cdc16e525d7a1fda2457e',\n",
       "  'camera_id': '661c20eb8553dfc97a6b902b',\n",
       "  'object_id': 'car',\n",
       "  'schedule': '0 */1 * * *',\n",
       "  'user_id': '66065f62e8005b6e641b4165'},\n",
       " {'_id': '661d9996e525d7a1fda24580',\n",
       "  'camera_id': '661d977872fb1e5c3503e1d8',\n",
       "  'object_id': 'car',\n",
       "  'schedule': '*/5 */2 * * *',\n",
       "  'user_id': '661d9620e525d7a1fda2457f'},\n",
       " {'_id': '661d9da46e8808a793041754',\n",
       "  'camera_id': '661d9d88e525d7a1fda24581',\n",
       "  'object_id': 'car',\n",
       "  'schedule': '*/2 */1 * * *',\n",
       "  'user_id': '661d9620e525d7a1fda2457f'},\n",
       " {'_id': '661f38922113a88367aec690',\n",
       "  'camera_id': '661eda7045334574b07bbf56',\n",
       "  'object_id': '661f087a58ed01b5246b2c32',\n",
       "  'schedule': '*/1 */1 * * 2,1,3',\n",
       "  'user_id': '661eccda29867e7dbadfd2fe'},\n",
       " {'_id': '661f38c49e085933a10b5795',\n",
       "  'camera_id': '661eda7045334574b07bbf56',\n",
       "  'object_id': '661f087a58ed01b5246b2c30',\n",
       "  'schedule': '*/1 */1 * * 1,2,3',\n",
       "  'user_id': '661eccda29867e7dbadfd2fe'},\n",
       " {'_id': '661f5d239e085933a10b5849',\n",
       "  'camera_id': '661f32772113a88367aec68f',\n",
       "  'class_id': '661f57279e085933a10b57a8',\n",
       "  'schedule': '*/30 * * * *',\n",
       "  'user_id': '661eccda29867e7dbadfd2fe'},\n",
       " {'_id': '661f622f7f0a4ea837920645',\n",
       "  'camera_id': '661f32772113a88367aec68f',\n",
       "  'class_id': '661f57279e085933a10b57fa',\n",
       "  'schedule': '0 */1 * * 0',\n",
       "  'user_id': '661eccda29867e7dbadfd2fe'},\n",
       " {'_id': '661f62a77f0a4ea837920646',\n",
       "  'camera_id': '661f32772113a88367aec68f',\n",
       "  'class_id': '661f57279e085933a10b57fb',\n",
       "  'schedule': '*/1 */1 * * 0,1,2,3,4,6,5',\n",
       "  'user_id': '661eccda29867e7dbadfd2fe'}]"
      ]
     },
     "metadata": {},
     "output_type": "display_data"
    },
    {
     "name": "stdout",
     "output_type": "stream",
     "text": [
      "\n",
      "status_code: 200\n",
      "message: OK\n"
     ]
    },
    {
     "data": {
      "text/plain": [
       "[{'http_target': {'http_method': 2,\n",
       "   'uri': 'http://35.225.244.90:5000/process_config/661f38922113a88367aec690'},\n",
       "  'last_attempt_time': '2024-04-17 03:12:00',\n",
       "  'name': 'projects/octacity-413119/locations/us-central1/jobs/config-661f38922113a88367aec690',\n",
       "  'schedule': '*/1 */1 * * 2,1,3',\n",
       "  'state': 'PAUSED',\n",
       "  'time_zone': 'America/Sao_Paulo'},\n",
       " {'http_target': {'http_method': 2,\n",
       "   'uri': 'http://35.225.244.90:5000/process_config/661f38c49e085933a10b5795'},\n",
       "  'last_attempt_time': '2024-04-17 03:12:00',\n",
       "  'name': 'projects/octacity-413119/locations/us-central1/jobs/config-661f38c49e085933a10b5795',\n",
       "  'schedule': '*/1 */1 * * 1,2,3',\n",
       "  'state': 'PAUSED',\n",
       "  'time_zone': 'America/Sao_Paulo'},\n",
       " {'http_target': {'http_method': 2,\n",
       "   'uri': 'http://35.225.244.90:5000/process_config/661f5d239e085933a10b5849'},\n",
       "  'last_attempt_time': '2024-04-17 06:00:00',\n",
       "  'name': 'projects/octacity-413119/locations/us-central1/jobs/config-661f5d239e085933a10b5849',\n",
       "  'schedule': '*/30 * * * *',\n",
       "  'state': 'PAUSED',\n",
       "  'time_zone': 'America/Sao_Paulo'},\n",
       " {'http_target': {'http_method': 2,\n",
       "   'uri': 'http://35.225.244.90:5000/process_config/661f622f7f0a4ea837920645'},\n",
       "  'last_attempt_time': '',\n",
       "  'name': 'projects/octacity-413119/locations/us-central1/jobs/config-661f622f7f0a4ea837920645',\n",
       "  'schedule': '0 */1 * * 0',\n",
       "  'state': 'PAUSED',\n",
       "  'time_zone': 'America/Sao_Paulo'},\n",
       " {'http_target': {'http_method': 2,\n",
       "   'uri': 'http://35.225.244.90:5000/process_config/661f62a77f0a4ea837920646'},\n",
       "  'last_attempt_time': '2024-04-17 13:00:00',\n",
       "  'name': 'projects/octacity-413119/locations/us-central1/jobs/config-661f62a77f0a4ea837920646',\n",
       "  'schedule': '*/1 */1 * * 0,1,2,3,4,6,5',\n",
       "  'state': 'PAUSED',\n",
       "  'time_zone': 'America/Sao_Paulo'},\n",
       " {'http_target': {'http_method': 1,\n",
       "   'uri': 'https://octa-api-veuei2iu4q-uc.a.run.app/alertario/instance_switch'},\n",
       "  'last_attempt_time': '2024-03-25 13:00:00',\n",
       "  'name': 'projects/octacity-413119/locations/us-central1/jobs/instance-switch',\n",
       "  'schedule': '0 */2 * * *',\n",
       "  'state': 'PAUSED',\n",
       "  'time_zone': 'America/Sao_Paulo'},\n",
       " {'http_target': {'http_method': 1,\n",
       "   'uri': 'https://octa-api-veuei2iu4q-uc.a.run.app/alertario/job_switch'},\n",
       "  'last_attempt_time': '2024-03-25 13:00:00',\n",
       "  'name': 'projects/octacity-413119/locations/us-central1/jobs/job-switch',\n",
       "  'schedule': '0 */2 * * *',\n",
       "  'state': 'PAUSED',\n",
       "  'time_zone': 'America/Sao_Paulo'},\n",
       " {'http_target': {'http_method': 2,\n",
       "   'uri': 'https://octa-api-veuei2iu4q-uc.a.run.app/tasks/post/polygons/cameras/flood_classification?max_frames=25&process_each=6&process=flood-classification-yolo&max_threads=20&confidence=0.60&db=Waterbag&coll=CameraFloodClassification&overwrite=true'},\n",
       "  'last_attempt_time': '',\n",
       "  'name': 'projects/octacity-413119/locations/us-central1/jobs/post-camera-flood',\n",
       "  'schedule': '*/10 * * * *',\n",
       "  'state': 'PAUSED',\n",
       "  'time_zone': 'America/Sao_Paulo'},\n",
       " {'http_target': {'http_method': 2,\n",
       "   'uri': 'https://octa-api-veuei2iu4q-uc.a.run.app/tasks/post/cameras/alertario/stations?db=Waterbag&coll=CamerasClosestPluviometers&overwrite=true'},\n",
       "  'last_attempt_time': '2024-03-27 03:35:00',\n",
       "  'name': 'projects/octacity-413119/locations/us-central1/jobs/post-cameras-closest-pluviometers',\n",
       "  'schedule': '*/1 * * * *',\n",
       "  'state': 'PAUSED',\n",
       "  'time_zone': 'America/Sao_Paulo'},\n",
       " {'http_target': {'http_method': 2,\n",
       "   'uri': 'https://octa-api-veuei2iu4q-uc.a.run.app/tasks/post/clusters?db=Waterbag&coll=Polygons&overwrite=false'},\n",
       "  'last_attempt_time': '2024-03-27 03:36:00',\n",
       "  'name': 'projects/octacity-413119/locations/us-central1/jobs/post-polygons',\n",
       "  'schedule': '*/2 * * * *',\n",
       "  'state': 'PAUSED',\n",
       "  'time_zone': 'America/Sao_Paulo'},\n",
       " {'http_target': {'http_method': 2,\n",
       "   'uri': 'https://octa-api-veuei2iu4q-uc.a.run.app/tasks/post/predict/live?db=Waterbag&coll=Prediction&overwrite=false&as_datetime=timestamp'},\n",
       "  'last_attempt_time': '2024-03-27 03:35:00',\n",
       "  'name': 'projects/octacity-413119/locations/us-central1/jobs/post-predict',\n",
       "  'schedule': '*/5 * * * *',\n",
       "  'state': 'PAUSED',\n",
       "  'time_zone': 'America/Sao_Paulo'},\n",
       " {'http_target': {'http_method': 1,\n",
       "   'uri': 'https://cams-rio-veuei2iu4q-uc.a.run.app/record/points'},\n",
       "  'last_attempt_time': '2024-03-27 03:36:00',\n",
       "  'name': 'projects/octacity-413119/locations/us-central1/jobs/record-comando',\n",
       "  'schedule': '*/3 * * * *',\n",
       "  'state': 'PAUSED',\n",
       "  'time_zone': 'America/Sao_Paulo'},\n",
       " {'http_target': {'http_method': 1,\n",
       "   'uri': 'https://cams-rio-veuei2iu4q-uc.a.run.app/record/points'},\n",
       "  'last_attempt_time': '2024-03-27 03:36:00',\n",
       "  'name': 'projects/octacity-413119/locations/us-central1/jobs/record-polygons',\n",
       "  'schedule': '*/3 * * * *',\n",
       "  'state': 'PAUSED',\n",
       "  'time_zone': 'America/Sao_Paulo'}]"
      ]
     },
     "metadata": {},
     "output_type": "display_data"
    }
   ],
   "source": [
    "configs = list_configs()\n",
    "display(configs)\n",
    "print()\n",
    "jobs = list_jobs()\n",
    "display(jobs)"
   ]
  },
  {
   "cell_type": "markdown",
   "id": "1320baee-7f6f-45a4-b318-51e638c414b2",
   "metadata": {},
   "source": [
    "#### Post AI task configuration"
   ]
  },
  {
   "cell_type": "code",
   "execution_count": 7,
   "id": "81205108-7e76-426d-8f34-abaaaaabd62b",
   "metadata": {},
   "outputs": [
    {
     "ename": "ConnectionError",
     "evalue": "HTTPConnectionPool(host='35.184.5.78', port=5010): Max retries exceeded with url: /config (Caused by NewConnectionError('<urllib3.connection.HTTPConnection object at 0x000001F972B9BEE0>: Failed to establish a new connection: [WinError 10061] Nenhuma conexão pôde ser feita porque a máquina de destino as recusou ativamente'))",
     "output_type": "error",
     "traceback": [
      "\u001b[1;31m---------------------------------------------------------------------------\u001b[0m",
      "\u001b[1;31mConnectionRefusedError\u001b[0m                    Traceback (most recent call last)",
      "File \u001b[1;32m~\\anaconda3\\envs\\octa-images\\lib\\site-packages\\urllib3\\connection.py:203\u001b[0m, in \u001b[0;36mHTTPConnection._new_conn\u001b[1;34m(self)\u001b[0m\n\u001b[0;32m    202\u001b[0m \u001b[38;5;28;01mtry\u001b[39;00m:\n\u001b[1;32m--> 203\u001b[0m     sock \u001b[38;5;241m=\u001b[39m \u001b[43mconnection\u001b[49m\u001b[38;5;241;43m.\u001b[39;49m\u001b[43mcreate_connection\u001b[49m\u001b[43m(\u001b[49m\n\u001b[0;32m    204\u001b[0m \u001b[43m        \u001b[49m\u001b[43m(\u001b[49m\u001b[38;5;28;43mself\u001b[39;49m\u001b[38;5;241;43m.\u001b[39;49m\u001b[43m_dns_host\u001b[49m\u001b[43m,\u001b[49m\u001b[43m \u001b[49m\u001b[38;5;28;43mself\u001b[39;49m\u001b[38;5;241;43m.\u001b[39;49m\u001b[43mport\u001b[49m\u001b[43m)\u001b[49m\u001b[43m,\u001b[49m\n\u001b[0;32m    205\u001b[0m \u001b[43m        \u001b[49m\u001b[38;5;28;43mself\u001b[39;49m\u001b[38;5;241;43m.\u001b[39;49m\u001b[43mtimeout\u001b[49m\u001b[43m,\u001b[49m\n\u001b[0;32m    206\u001b[0m \u001b[43m        \u001b[49m\u001b[43msource_address\u001b[49m\u001b[38;5;241;43m=\u001b[39;49m\u001b[38;5;28;43mself\u001b[39;49m\u001b[38;5;241;43m.\u001b[39;49m\u001b[43msource_address\u001b[49m\u001b[43m,\u001b[49m\n\u001b[0;32m    207\u001b[0m \u001b[43m        \u001b[49m\u001b[43msocket_options\u001b[49m\u001b[38;5;241;43m=\u001b[39;49m\u001b[38;5;28;43mself\u001b[39;49m\u001b[38;5;241;43m.\u001b[39;49m\u001b[43msocket_options\u001b[49m\u001b[43m,\u001b[49m\n\u001b[0;32m    208\u001b[0m \u001b[43m    \u001b[49m\u001b[43m)\u001b[49m\n\u001b[0;32m    209\u001b[0m \u001b[38;5;28;01mexcept\u001b[39;00m socket\u001b[38;5;241m.\u001b[39mgaierror \u001b[38;5;28;01mas\u001b[39;00m e:\n",
      "File \u001b[1;32m~\\anaconda3\\envs\\octa-images\\lib\\site-packages\\urllib3\\util\\connection.py:85\u001b[0m, in \u001b[0;36mcreate_connection\u001b[1;34m(address, timeout, source_address, socket_options)\u001b[0m\n\u001b[0;32m     84\u001b[0m \u001b[38;5;28;01mtry\u001b[39;00m:\n\u001b[1;32m---> 85\u001b[0m     \u001b[38;5;28;01mraise\u001b[39;00m err\n\u001b[0;32m     86\u001b[0m \u001b[38;5;28;01mfinally\u001b[39;00m:\n\u001b[0;32m     87\u001b[0m     \u001b[38;5;66;03m# Break explicitly a reference cycle\u001b[39;00m\n",
      "File \u001b[1;32m~\\anaconda3\\envs\\octa-images\\lib\\site-packages\\urllib3\\util\\connection.py:73\u001b[0m, in \u001b[0;36mcreate_connection\u001b[1;34m(address, timeout, source_address, socket_options)\u001b[0m\n\u001b[0;32m     72\u001b[0m     sock\u001b[38;5;241m.\u001b[39mbind(source_address)\n\u001b[1;32m---> 73\u001b[0m \u001b[43msock\u001b[49m\u001b[38;5;241;43m.\u001b[39;49m\u001b[43mconnect\u001b[49m\u001b[43m(\u001b[49m\u001b[43msa\u001b[49m\u001b[43m)\u001b[49m\n\u001b[0;32m     74\u001b[0m \u001b[38;5;66;03m# Break explicitly a reference cycle\u001b[39;00m\n",
      "\u001b[1;31mConnectionRefusedError\u001b[0m: [WinError 10061] Nenhuma conexão pôde ser feita porque a máquina de destino as recusou ativamente",
      "\nThe above exception was the direct cause of the following exception:\n",
      "\u001b[1;31mNewConnectionError\u001b[0m                        Traceback (most recent call last)",
      "File \u001b[1;32m~\\anaconda3\\envs\\octa-images\\lib\\site-packages\\urllib3\\connectionpool.py:790\u001b[0m, in \u001b[0;36mHTTPConnectionPool.urlopen\u001b[1;34m(self, method, url, body, headers, retries, redirect, assert_same_host, timeout, pool_timeout, release_conn, chunked, body_pos, preload_content, decode_content, **response_kw)\u001b[0m\n\u001b[0;32m    789\u001b[0m \u001b[38;5;66;03m# Make the request on the HTTPConnection object\u001b[39;00m\n\u001b[1;32m--> 790\u001b[0m response \u001b[38;5;241m=\u001b[39m \u001b[38;5;28;43mself\u001b[39;49m\u001b[38;5;241;43m.\u001b[39;49m\u001b[43m_make_request\u001b[49m\u001b[43m(\u001b[49m\n\u001b[0;32m    791\u001b[0m \u001b[43m    \u001b[49m\u001b[43mconn\u001b[49m\u001b[43m,\u001b[49m\n\u001b[0;32m    792\u001b[0m \u001b[43m    \u001b[49m\u001b[43mmethod\u001b[49m\u001b[43m,\u001b[49m\n\u001b[0;32m    793\u001b[0m \u001b[43m    \u001b[49m\u001b[43murl\u001b[49m\u001b[43m,\u001b[49m\n\u001b[0;32m    794\u001b[0m \u001b[43m    \u001b[49m\u001b[43mtimeout\u001b[49m\u001b[38;5;241;43m=\u001b[39;49m\u001b[43mtimeout_obj\u001b[49m\u001b[43m,\u001b[49m\n\u001b[0;32m    795\u001b[0m \u001b[43m    \u001b[49m\u001b[43mbody\u001b[49m\u001b[38;5;241;43m=\u001b[39;49m\u001b[43mbody\u001b[49m\u001b[43m,\u001b[49m\n\u001b[0;32m    796\u001b[0m \u001b[43m    \u001b[49m\u001b[43mheaders\u001b[49m\u001b[38;5;241;43m=\u001b[39;49m\u001b[43mheaders\u001b[49m\u001b[43m,\u001b[49m\n\u001b[0;32m    797\u001b[0m \u001b[43m    \u001b[49m\u001b[43mchunked\u001b[49m\u001b[38;5;241;43m=\u001b[39;49m\u001b[43mchunked\u001b[49m\u001b[43m,\u001b[49m\n\u001b[0;32m    798\u001b[0m \u001b[43m    \u001b[49m\u001b[43mretries\u001b[49m\u001b[38;5;241;43m=\u001b[39;49m\u001b[43mretries\u001b[49m\u001b[43m,\u001b[49m\n\u001b[0;32m    799\u001b[0m \u001b[43m    \u001b[49m\u001b[43mresponse_conn\u001b[49m\u001b[38;5;241;43m=\u001b[39;49m\u001b[43mresponse_conn\u001b[49m\u001b[43m,\u001b[49m\n\u001b[0;32m    800\u001b[0m \u001b[43m    \u001b[49m\u001b[43mpreload_content\u001b[49m\u001b[38;5;241;43m=\u001b[39;49m\u001b[43mpreload_content\u001b[49m\u001b[43m,\u001b[49m\n\u001b[0;32m    801\u001b[0m \u001b[43m    \u001b[49m\u001b[43mdecode_content\u001b[49m\u001b[38;5;241;43m=\u001b[39;49m\u001b[43mdecode_content\u001b[49m\u001b[43m,\u001b[49m\n\u001b[0;32m    802\u001b[0m \u001b[43m    \u001b[49m\u001b[38;5;241;43m*\u001b[39;49m\u001b[38;5;241;43m*\u001b[39;49m\u001b[43mresponse_kw\u001b[49m\u001b[43m,\u001b[49m\n\u001b[0;32m    803\u001b[0m \u001b[43m\u001b[49m\u001b[43m)\u001b[49m\n\u001b[0;32m    805\u001b[0m \u001b[38;5;66;03m# Everything went great!\u001b[39;00m\n",
      "File \u001b[1;32m~\\anaconda3\\envs\\octa-images\\lib\\site-packages\\urllib3\\connectionpool.py:496\u001b[0m, in \u001b[0;36mHTTPConnectionPool._make_request\u001b[1;34m(self, conn, method, url, body, headers, retries, timeout, chunked, response_conn, preload_content, decode_content, enforce_content_length)\u001b[0m\n\u001b[0;32m    495\u001b[0m \u001b[38;5;28;01mtry\u001b[39;00m:\n\u001b[1;32m--> 496\u001b[0m     \u001b[43mconn\u001b[49m\u001b[38;5;241;43m.\u001b[39;49m\u001b[43mrequest\u001b[49m\u001b[43m(\u001b[49m\n\u001b[0;32m    497\u001b[0m \u001b[43m        \u001b[49m\u001b[43mmethod\u001b[49m\u001b[43m,\u001b[49m\n\u001b[0;32m    498\u001b[0m \u001b[43m        \u001b[49m\u001b[43murl\u001b[49m\u001b[43m,\u001b[49m\n\u001b[0;32m    499\u001b[0m \u001b[43m        \u001b[49m\u001b[43mbody\u001b[49m\u001b[38;5;241;43m=\u001b[39;49m\u001b[43mbody\u001b[49m\u001b[43m,\u001b[49m\n\u001b[0;32m    500\u001b[0m \u001b[43m        \u001b[49m\u001b[43mheaders\u001b[49m\u001b[38;5;241;43m=\u001b[39;49m\u001b[43mheaders\u001b[49m\u001b[43m,\u001b[49m\n\u001b[0;32m    501\u001b[0m \u001b[43m        \u001b[49m\u001b[43mchunked\u001b[49m\u001b[38;5;241;43m=\u001b[39;49m\u001b[43mchunked\u001b[49m\u001b[43m,\u001b[49m\n\u001b[0;32m    502\u001b[0m \u001b[43m        \u001b[49m\u001b[43mpreload_content\u001b[49m\u001b[38;5;241;43m=\u001b[39;49m\u001b[43mpreload_content\u001b[49m\u001b[43m,\u001b[49m\n\u001b[0;32m    503\u001b[0m \u001b[43m        \u001b[49m\u001b[43mdecode_content\u001b[49m\u001b[38;5;241;43m=\u001b[39;49m\u001b[43mdecode_content\u001b[49m\u001b[43m,\u001b[49m\n\u001b[0;32m    504\u001b[0m \u001b[43m        \u001b[49m\u001b[43menforce_content_length\u001b[49m\u001b[38;5;241;43m=\u001b[39;49m\u001b[43menforce_content_length\u001b[49m\u001b[43m,\u001b[49m\n\u001b[0;32m    505\u001b[0m \u001b[43m    \u001b[49m\u001b[43m)\u001b[49m\n\u001b[0;32m    507\u001b[0m \u001b[38;5;66;03m# We are swallowing BrokenPipeError (errno.EPIPE) since the server is\u001b[39;00m\n\u001b[0;32m    508\u001b[0m \u001b[38;5;66;03m# legitimately able to close the connection after sending a valid response.\u001b[39;00m\n\u001b[0;32m    509\u001b[0m \u001b[38;5;66;03m# With this behaviour, the received response is still readable.\u001b[39;00m\n",
      "File \u001b[1;32m~\\anaconda3\\envs\\octa-images\\lib\\site-packages\\urllib3\\connection.py:395\u001b[0m, in \u001b[0;36mHTTPConnection.request\u001b[1;34m(self, method, url, body, headers, chunked, preload_content, decode_content, enforce_content_length)\u001b[0m\n\u001b[0;32m    394\u001b[0m     \u001b[38;5;28mself\u001b[39m\u001b[38;5;241m.\u001b[39mputheader(header, value)\n\u001b[1;32m--> 395\u001b[0m \u001b[38;5;28;43mself\u001b[39;49m\u001b[38;5;241;43m.\u001b[39;49m\u001b[43mendheaders\u001b[49m\u001b[43m(\u001b[49m\u001b[43m)\u001b[49m\n\u001b[0;32m    397\u001b[0m \u001b[38;5;66;03m# If we're given a body we start sending that in chunks.\u001b[39;00m\n",
      "File \u001b[1;32m~\\anaconda3\\envs\\octa-images\\lib\\http\\client.py:1251\u001b[0m, in \u001b[0;36mHTTPConnection.endheaders\u001b[1;34m(self, message_body, encode_chunked)\u001b[0m\n\u001b[0;32m   1250\u001b[0m     \u001b[38;5;28;01mraise\u001b[39;00m CannotSendHeader()\n\u001b[1;32m-> 1251\u001b[0m \u001b[38;5;28;43mself\u001b[39;49m\u001b[38;5;241;43m.\u001b[39;49m\u001b[43m_send_output\u001b[49m\u001b[43m(\u001b[49m\u001b[43mmessage_body\u001b[49m\u001b[43m,\u001b[49m\u001b[43m \u001b[49m\u001b[43mencode_chunked\u001b[49m\u001b[38;5;241;43m=\u001b[39;49m\u001b[43mencode_chunked\u001b[49m\u001b[43m)\u001b[49m\n",
      "File \u001b[1;32m~\\anaconda3\\envs\\octa-images\\lib\\http\\client.py:1011\u001b[0m, in \u001b[0;36mHTTPConnection._send_output\u001b[1;34m(self, message_body, encode_chunked)\u001b[0m\n\u001b[0;32m   1010\u001b[0m \u001b[38;5;28;01mdel\u001b[39;00m \u001b[38;5;28mself\u001b[39m\u001b[38;5;241m.\u001b[39m_buffer[:]\n\u001b[1;32m-> 1011\u001b[0m \u001b[38;5;28;43mself\u001b[39;49m\u001b[38;5;241;43m.\u001b[39;49m\u001b[43msend\u001b[49m\u001b[43m(\u001b[49m\u001b[43mmsg\u001b[49m\u001b[43m)\u001b[49m\n\u001b[0;32m   1013\u001b[0m \u001b[38;5;28;01mif\u001b[39;00m message_body \u001b[38;5;129;01mis\u001b[39;00m \u001b[38;5;129;01mnot\u001b[39;00m \u001b[38;5;28;01mNone\u001b[39;00m:\n\u001b[0;32m   1014\u001b[0m \n\u001b[0;32m   1015\u001b[0m     \u001b[38;5;66;03m# create a consistent interface to message_body\u001b[39;00m\n",
      "File \u001b[1;32m~\\anaconda3\\envs\\octa-images\\lib\\http\\client.py:951\u001b[0m, in \u001b[0;36mHTTPConnection.send\u001b[1;34m(self, data)\u001b[0m\n\u001b[0;32m    950\u001b[0m \u001b[38;5;28;01mif\u001b[39;00m \u001b[38;5;28mself\u001b[39m\u001b[38;5;241m.\u001b[39mauto_open:\n\u001b[1;32m--> 951\u001b[0m     \u001b[38;5;28;43mself\u001b[39;49m\u001b[38;5;241;43m.\u001b[39;49m\u001b[43mconnect\u001b[49m\u001b[43m(\u001b[49m\u001b[43m)\u001b[49m\n\u001b[0;32m    952\u001b[0m \u001b[38;5;28;01melse\u001b[39;00m:\n",
      "File \u001b[1;32m~\\anaconda3\\envs\\octa-images\\lib\\site-packages\\urllib3\\connection.py:243\u001b[0m, in \u001b[0;36mHTTPConnection.connect\u001b[1;34m(self)\u001b[0m\n\u001b[0;32m    242\u001b[0m \u001b[38;5;28;01mdef\u001b[39;00m \u001b[38;5;21mconnect\u001b[39m(\u001b[38;5;28mself\u001b[39m) \u001b[38;5;241m-\u001b[39m\u001b[38;5;241m>\u001b[39m \u001b[38;5;28;01mNone\u001b[39;00m:\n\u001b[1;32m--> 243\u001b[0m     \u001b[38;5;28mself\u001b[39m\u001b[38;5;241m.\u001b[39msock \u001b[38;5;241m=\u001b[39m \u001b[38;5;28;43mself\u001b[39;49m\u001b[38;5;241;43m.\u001b[39;49m\u001b[43m_new_conn\u001b[49m\u001b[43m(\u001b[49m\u001b[43m)\u001b[49m\n\u001b[0;32m    244\u001b[0m     \u001b[38;5;28;01mif\u001b[39;00m \u001b[38;5;28mself\u001b[39m\u001b[38;5;241m.\u001b[39m_tunnel_host:\n\u001b[0;32m    245\u001b[0m         \u001b[38;5;66;03m# If we're tunneling it means we're connected to our proxy.\u001b[39;00m\n",
      "File \u001b[1;32m~\\anaconda3\\envs\\octa-images\\lib\\site-packages\\urllib3\\connection.py:218\u001b[0m, in \u001b[0;36mHTTPConnection._new_conn\u001b[1;34m(self)\u001b[0m\n\u001b[0;32m    217\u001b[0m \u001b[38;5;28;01mexcept\u001b[39;00m \u001b[38;5;167;01mOSError\u001b[39;00m \u001b[38;5;28;01mas\u001b[39;00m e:\n\u001b[1;32m--> 218\u001b[0m     \u001b[38;5;28;01mraise\u001b[39;00m NewConnectionError(\n\u001b[0;32m    219\u001b[0m         \u001b[38;5;28mself\u001b[39m, \u001b[38;5;124mf\u001b[39m\u001b[38;5;124m\"\u001b[39m\u001b[38;5;124mFailed to establish a new connection: \u001b[39m\u001b[38;5;132;01m{\u001b[39;00me\u001b[38;5;132;01m}\u001b[39;00m\u001b[38;5;124m\"\u001b[39m\n\u001b[0;32m    220\u001b[0m     ) \u001b[38;5;28;01mfrom\u001b[39;00m \u001b[38;5;21;01me\u001b[39;00m\n\u001b[0;32m    222\u001b[0m \u001b[38;5;66;03m# Audit hooks are only available in Python 3.8+\u001b[39;00m\n",
      "\u001b[1;31mNewConnectionError\u001b[0m: <urllib3.connection.HTTPConnection object at 0x000001F972B9BEE0>: Failed to establish a new connection: [WinError 10061] Nenhuma conexão pôde ser feita porque a máquina de destino as recusou ativamente",
      "\nThe above exception was the direct cause of the following exception:\n",
      "\u001b[1;31mMaxRetryError\u001b[0m                             Traceback (most recent call last)",
      "File \u001b[1;32m~\\anaconda3\\envs\\octa-images\\lib\\site-packages\\requests\\adapters.py:486\u001b[0m, in \u001b[0;36mHTTPAdapter.send\u001b[1;34m(self, request, stream, timeout, verify, cert, proxies)\u001b[0m\n\u001b[0;32m    485\u001b[0m \u001b[38;5;28;01mtry\u001b[39;00m:\n\u001b[1;32m--> 486\u001b[0m     resp \u001b[38;5;241m=\u001b[39m \u001b[43mconn\u001b[49m\u001b[38;5;241;43m.\u001b[39;49m\u001b[43murlopen\u001b[49m\u001b[43m(\u001b[49m\n\u001b[0;32m    487\u001b[0m \u001b[43m        \u001b[49m\u001b[43mmethod\u001b[49m\u001b[38;5;241;43m=\u001b[39;49m\u001b[43mrequest\u001b[49m\u001b[38;5;241;43m.\u001b[39;49m\u001b[43mmethod\u001b[49m\u001b[43m,\u001b[49m\n\u001b[0;32m    488\u001b[0m \u001b[43m        \u001b[49m\u001b[43murl\u001b[49m\u001b[38;5;241;43m=\u001b[39;49m\u001b[43murl\u001b[49m\u001b[43m,\u001b[49m\n\u001b[0;32m    489\u001b[0m \u001b[43m        \u001b[49m\u001b[43mbody\u001b[49m\u001b[38;5;241;43m=\u001b[39;49m\u001b[43mrequest\u001b[49m\u001b[38;5;241;43m.\u001b[39;49m\u001b[43mbody\u001b[49m\u001b[43m,\u001b[49m\n\u001b[0;32m    490\u001b[0m \u001b[43m        \u001b[49m\u001b[43mheaders\u001b[49m\u001b[38;5;241;43m=\u001b[39;49m\u001b[43mrequest\u001b[49m\u001b[38;5;241;43m.\u001b[39;49m\u001b[43mheaders\u001b[49m\u001b[43m,\u001b[49m\n\u001b[0;32m    491\u001b[0m \u001b[43m        \u001b[49m\u001b[43mredirect\u001b[49m\u001b[38;5;241;43m=\u001b[39;49m\u001b[38;5;28;43;01mFalse\u001b[39;49;00m\u001b[43m,\u001b[49m\n\u001b[0;32m    492\u001b[0m \u001b[43m        \u001b[49m\u001b[43massert_same_host\u001b[49m\u001b[38;5;241;43m=\u001b[39;49m\u001b[38;5;28;43;01mFalse\u001b[39;49;00m\u001b[43m,\u001b[49m\n\u001b[0;32m    493\u001b[0m \u001b[43m        \u001b[49m\u001b[43mpreload_content\u001b[49m\u001b[38;5;241;43m=\u001b[39;49m\u001b[38;5;28;43;01mFalse\u001b[39;49;00m\u001b[43m,\u001b[49m\n\u001b[0;32m    494\u001b[0m \u001b[43m        \u001b[49m\u001b[43mdecode_content\u001b[49m\u001b[38;5;241;43m=\u001b[39;49m\u001b[38;5;28;43;01mFalse\u001b[39;49;00m\u001b[43m,\u001b[49m\n\u001b[0;32m    495\u001b[0m \u001b[43m        \u001b[49m\u001b[43mretries\u001b[49m\u001b[38;5;241;43m=\u001b[39;49m\u001b[38;5;28;43mself\u001b[39;49m\u001b[38;5;241;43m.\u001b[39;49m\u001b[43mmax_retries\u001b[49m\u001b[43m,\u001b[49m\n\u001b[0;32m    496\u001b[0m \u001b[43m        \u001b[49m\u001b[43mtimeout\u001b[49m\u001b[38;5;241;43m=\u001b[39;49m\u001b[43mtimeout\u001b[49m\u001b[43m,\u001b[49m\n\u001b[0;32m    497\u001b[0m \u001b[43m        \u001b[49m\u001b[43mchunked\u001b[49m\u001b[38;5;241;43m=\u001b[39;49m\u001b[43mchunked\u001b[49m\u001b[43m,\u001b[49m\n\u001b[0;32m    498\u001b[0m \u001b[43m    \u001b[49m\u001b[43m)\u001b[49m\n\u001b[0;32m    500\u001b[0m \u001b[38;5;28;01mexcept\u001b[39;00m (ProtocolError, \u001b[38;5;167;01mOSError\u001b[39;00m) \u001b[38;5;28;01mas\u001b[39;00m err:\n",
      "File \u001b[1;32m~\\anaconda3\\envs\\octa-images\\lib\\site-packages\\urllib3\\connectionpool.py:844\u001b[0m, in \u001b[0;36mHTTPConnectionPool.urlopen\u001b[1;34m(self, method, url, body, headers, retries, redirect, assert_same_host, timeout, pool_timeout, release_conn, chunked, body_pos, preload_content, decode_content, **response_kw)\u001b[0m\n\u001b[0;32m    842\u001b[0m     new_e \u001b[38;5;241m=\u001b[39m ProtocolError(\u001b[38;5;124m\"\u001b[39m\u001b[38;5;124mConnection aborted.\u001b[39m\u001b[38;5;124m\"\u001b[39m, new_e)\n\u001b[1;32m--> 844\u001b[0m retries \u001b[38;5;241m=\u001b[39m \u001b[43mretries\u001b[49m\u001b[38;5;241;43m.\u001b[39;49m\u001b[43mincrement\u001b[49m\u001b[43m(\u001b[49m\n\u001b[0;32m    845\u001b[0m \u001b[43m    \u001b[49m\u001b[43mmethod\u001b[49m\u001b[43m,\u001b[49m\u001b[43m \u001b[49m\u001b[43murl\u001b[49m\u001b[43m,\u001b[49m\u001b[43m \u001b[49m\u001b[43merror\u001b[49m\u001b[38;5;241;43m=\u001b[39;49m\u001b[43mnew_e\u001b[49m\u001b[43m,\u001b[49m\u001b[43m \u001b[49m\u001b[43m_pool\u001b[49m\u001b[38;5;241;43m=\u001b[39;49m\u001b[38;5;28;43mself\u001b[39;49m\u001b[43m,\u001b[49m\u001b[43m \u001b[49m\u001b[43m_stacktrace\u001b[49m\u001b[38;5;241;43m=\u001b[39;49m\u001b[43msys\u001b[49m\u001b[38;5;241;43m.\u001b[39;49m\u001b[43mexc_info\u001b[49m\u001b[43m(\u001b[49m\u001b[43m)\u001b[49m\u001b[43m[\u001b[49m\u001b[38;5;241;43m2\u001b[39;49m\u001b[43m]\u001b[49m\n\u001b[0;32m    846\u001b[0m \u001b[43m\u001b[49m\u001b[43m)\u001b[49m\n\u001b[0;32m    847\u001b[0m retries\u001b[38;5;241m.\u001b[39msleep()\n",
      "File \u001b[1;32m~\\anaconda3\\envs\\octa-images\\lib\\site-packages\\urllib3\\util\\retry.py:515\u001b[0m, in \u001b[0;36mRetry.increment\u001b[1;34m(self, method, url, response, error, _pool, _stacktrace)\u001b[0m\n\u001b[0;32m    514\u001b[0m     reason \u001b[38;5;241m=\u001b[39m error \u001b[38;5;129;01mor\u001b[39;00m ResponseError(cause)\n\u001b[1;32m--> 515\u001b[0m     \u001b[38;5;28;01mraise\u001b[39;00m MaxRetryError(_pool, url, reason) \u001b[38;5;28;01mfrom\u001b[39;00m \u001b[38;5;21;01mreason\u001b[39;00m  \u001b[38;5;66;03m# type: ignore[arg-type]\u001b[39;00m\n\u001b[0;32m    517\u001b[0m log\u001b[38;5;241m.\u001b[39mdebug(\u001b[38;5;124m\"\u001b[39m\u001b[38;5;124mIncremented Retry for (url=\u001b[39m\u001b[38;5;124m'\u001b[39m\u001b[38;5;132;01m%s\u001b[39;00m\u001b[38;5;124m'\u001b[39m\u001b[38;5;124m): \u001b[39m\u001b[38;5;132;01m%r\u001b[39;00m\u001b[38;5;124m\"\u001b[39m, url, new_retry)\n",
      "\u001b[1;31mMaxRetryError\u001b[0m: HTTPConnectionPool(host='35.184.5.78', port=5010): Max retries exceeded with url: /config (Caused by NewConnectionError('<urllib3.connection.HTTPConnection object at 0x000001F972B9BEE0>: Failed to establish a new connection: [WinError 10061] Nenhuma conexão pôde ser feita porque a máquina de destino as recusou ativamente'))",
      "\nDuring handling of the above exception, another exception occurred:\n",
      "\u001b[1;31mConnectionError\u001b[0m                           Traceback (most recent call last)",
      "Cell \u001b[1;32mIn[7], line 15\u001b[0m\n\u001b[0;32m      7\u001b[0m data \u001b[38;5;241m=\u001b[39m {\n\u001b[0;32m      8\u001b[0m     \u001b[38;5;124m\"\u001b[39m\u001b[38;5;124muser_id\u001b[39m\u001b[38;5;124m\"\u001b[39m: \u001b[38;5;124m\"\u001b[39m\u001b[38;5;124mexample_user_id\u001b[39m\u001b[38;5;124m\"\u001b[39m,\n\u001b[0;32m      9\u001b[0m     \u001b[38;5;124m\"\u001b[39m\u001b[38;5;124mcamera_id\u001b[39m\u001b[38;5;124m\"\u001b[39m: \u001b[38;5;124m\"\u001b[39m\u001b[38;5;124mexample_camera_id\u001b[39m\u001b[38;5;124m\"\u001b[39m,\n\u001b[0;32m     10\u001b[0m     \u001b[38;5;124m\"\u001b[39m\u001b[38;5;124mobject_id\u001b[39m\u001b[38;5;124m\"\u001b[39m: \u001b[38;5;124m\"\u001b[39m\u001b[38;5;124mexample_object_id\u001b[39m\u001b[38;5;124m\"\u001b[39m,\n\u001b[0;32m     11\u001b[0m     \u001b[38;5;124m\"\u001b[39m\u001b[38;5;124mschedule\u001b[39m\u001b[38;5;124m\"\u001b[39m: \u001b[38;5;124m\"\u001b[39m\u001b[38;5;124m0 20 * * *\u001b[39m\u001b[38;5;124m\"\u001b[39m\n\u001b[0;32m     12\u001b[0m }\n\u001b[0;32m     14\u001b[0m \u001b[38;5;66;03m# Make a POST request to the endpoint with the example data\u001b[39;00m\n\u001b[1;32m---> 15\u001b[0m res \u001b[38;5;241m=\u001b[39m \u001b[43mrequests\u001b[49m\u001b[38;5;241;43m.\u001b[39;49m\u001b[43mpost\u001b[49m\u001b[43m(\u001b[49m\u001b[43murl\u001b[49m\u001b[43m,\u001b[49m\u001b[43m \u001b[49m\u001b[43mjson\u001b[49m\u001b[38;5;241;43m=\u001b[39;49m\u001b[43mdata\u001b[49m\u001b[43m)\u001b[49m\n\u001b[0;32m     17\u001b[0m \u001b[38;5;66;03m# Print the response\u001b[39;00m\n\u001b[0;32m     18\u001b[0m \u001b[38;5;28mprint\u001b[39m(\u001b[38;5;124m\"\u001b[39m\u001b[38;5;124mResponse status code:\u001b[39m\u001b[38;5;124m\"\u001b[39m, res\u001b[38;5;241m.\u001b[39mstatus_code)\n",
      "File \u001b[1;32m~\\anaconda3\\envs\\octa-images\\lib\\site-packages\\requests\\api.py:115\u001b[0m, in \u001b[0;36mpost\u001b[1;34m(url, data, json, **kwargs)\u001b[0m\n\u001b[0;32m    103\u001b[0m \u001b[38;5;28;01mdef\u001b[39;00m \u001b[38;5;21mpost\u001b[39m(url, data\u001b[38;5;241m=\u001b[39m\u001b[38;5;28;01mNone\u001b[39;00m, json\u001b[38;5;241m=\u001b[39m\u001b[38;5;28;01mNone\u001b[39;00m, \u001b[38;5;241m*\u001b[39m\u001b[38;5;241m*\u001b[39mkwargs):\n\u001b[0;32m    104\u001b[0m \u001b[38;5;250m    \u001b[39m\u001b[38;5;124mr\u001b[39m\u001b[38;5;124;03m\"\"\"Sends a POST request.\u001b[39;00m\n\u001b[0;32m    105\u001b[0m \n\u001b[0;32m    106\u001b[0m \u001b[38;5;124;03m    :param url: URL for the new :class:`Request` object.\u001b[39;00m\n\u001b[1;32m   (...)\u001b[0m\n\u001b[0;32m    112\u001b[0m \u001b[38;5;124;03m    :rtype: requests.Response\u001b[39;00m\n\u001b[0;32m    113\u001b[0m \u001b[38;5;124;03m    \"\"\"\u001b[39;00m\n\u001b[1;32m--> 115\u001b[0m     \u001b[38;5;28;01mreturn\u001b[39;00m \u001b[43mrequest\u001b[49m\u001b[43m(\u001b[49m\u001b[38;5;124;43m\"\u001b[39;49m\u001b[38;5;124;43mpost\u001b[39;49m\u001b[38;5;124;43m\"\u001b[39;49m\u001b[43m,\u001b[49m\u001b[43m \u001b[49m\u001b[43murl\u001b[49m\u001b[43m,\u001b[49m\u001b[43m \u001b[49m\u001b[43mdata\u001b[49m\u001b[38;5;241;43m=\u001b[39;49m\u001b[43mdata\u001b[49m\u001b[43m,\u001b[49m\u001b[43m \u001b[49m\u001b[43mjson\u001b[49m\u001b[38;5;241;43m=\u001b[39;49m\u001b[43mjson\u001b[49m\u001b[43m,\u001b[49m\u001b[43m \u001b[49m\u001b[38;5;241;43m*\u001b[39;49m\u001b[38;5;241;43m*\u001b[39;49m\u001b[43mkwargs\u001b[49m\u001b[43m)\u001b[49m\n",
      "File \u001b[1;32m~\\anaconda3\\envs\\octa-images\\lib\\site-packages\\requests\\api.py:59\u001b[0m, in \u001b[0;36mrequest\u001b[1;34m(method, url, **kwargs)\u001b[0m\n\u001b[0;32m     55\u001b[0m \u001b[38;5;66;03m# By using the 'with' statement we are sure the session is closed, thus we\u001b[39;00m\n\u001b[0;32m     56\u001b[0m \u001b[38;5;66;03m# avoid leaving sockets open which can trigger a ResourceWarning in some\u001b[39;00m\n\u001b[0;32m     57\u001b[0m \u001b[38;5;66;03m# cases, and look like a memory leak in others.\u001b[39;00m\n\u001b[0;32m     58\u001b[0m \u001b[38;5;28;01mwith\u001b[39;00m sessions\u001b[38;5;241m.\u001b[39mSession() \u001b[38;5;28;01mas\u001b[39;00m session:\n\u001b[1;32m---> 59\u001b[0m     \u001b[38;5;28;01mreturn\u001b[39;00m \u001b[43msession\u001b[49m\u001b[38;5;241;43m.\u001b[39;49m\u001b[43mrequest\u001b[49m\u001b[43m(\u001b[49m\u001b[43mmethod\u001b[49m\u001b[38;5;241;43m=\u001b[39;49m\u001b[43mmethod\u001b[49m\u001b[43m,\u001b[49m\u001b[43m \u001b[49m\u001b[43murl\u001b[49m\u001b[38;5;241;43m=\u001b[39;49m\u001b[43murl\u001b[49m\u001b[43m,\u001b[49m\u001b[43m \u001b[49m\u001b[38;5;241;43m*\u001b[39;49m\u001b[38;5;241;43m*\u001b[39;49m\u001b[43mkwargs\u001b[49m\u001b[43m)\u001b[49m\n",
      "File \u001b[1;32m~\\anaconda3\\envs\\octa-images\\lib\\site-packages\\requests\\sessions.py:589\u001b[0m, in \u001b[0;36mSession.request\u001b[1;34m(self, method, url, params, data, headers, cookies, files, auth, timeout, allow_redirects, proxies, hooks, stream, verify, cert, json)\u001b[0m\n\u001b[0;32m    584\u001b[0m send_kwargs \u001b[38;5;241m=\u001b[39m {\n\u001b[0;32m    585\u001b[0m     \u001b[38;5;124m\"\u001b[39m\u001b[38;5;124mtimeout\u001b[39m\u001b[38;5;124m\"\u001b[39m: timeout,\n\u001b[0;32m    586\u001b[0m     \u001b[38;5;124m\"\u001b[39m\u001b[38;5;124mallow_redirects\u001b[39m\u001b[38;5;124m\"\u001b[39m: allow_redirects,\n\u001b[0;32m    587\u001b[0m }\n\u001b[0;32m    588\u001b[0m send_kwargs\u001b[38;5;241m.\u001b[39mupdate(settings)\n\u001b[1;32m--> 589\u001b[0m resp \u001b[38;5;241m=\u001b[39m \u001b[38;5;28;43mself\u001b[39;49m\u001b[38;5;241;43m.\u001b[39;49m\u001b[43msend\u001b[49m\u001b[43m(\u001b[49m\u001b[43mprep\u001b[49m\u001b[43m,\u001b[49m\u001b[43m \u001b[49m\u001b[38;5;241;43m*\u001b[39;49m\u001b[38;5;241;43m*\u001b[39;49m\u001b[43msend_kwargs\u001b[49m\u001b[43m)\u001b[49m\n\u001b[0;32m    591\u001b[0m \u001b[38;5;28;01mreturn\u001b[39;00m resp\n",
      "File \u001b[1;32m~\\anaconda3\\envs\\octa-images\\lib\\site-packages\\requests\\sessions.py:703\u001b[0m, in \u001b[0;36mSession.send\u001b[1;34m(self, request, **kwargs)\u001b[0m\n\u001b[0;32m    700\u001b[0m start \u001b[38;5;241m=\u001b[39m preferred_clock()\n\u001b[0;32m    702\u001b[0m \u001b[38;5;66;03m# Send the request\u001b[39;00m\n\u001b[1;32m--> 703\u001b[0m r \u001b[38;5;241m=\u001b[39m \u001b[43madapter\u001b[49m\u001b[38;5;241;43m.\u001b[39;49m\u001b[43msend\u001b[49m\u001b[43m(\u001b[49m\u001b[43mrequest\u001b[49m\u001b[43m,\u001b[49m\u001b[43m \u001b[49m\u001b[38;5;241;43m*\u001b[39;49m\u001b[38;5;241;43m*\u001b[39;49m\u001b[43mkwargs\u001b[49m\u001b[43m)\u001b[49m\n\u001b[0;32m    705\u001b[0m \u001b[38;5;66;03m# Total elapsed time of the request (approximately)\u001b[39;00m\n\u001b[0;32m    706\u001b[0m elapsed \u001b[38;5;241m=\u001b[39m preferred_clock() \u001b[38;5;241m-\u001b[39m start\n",
      "File \u001b[1;32m~\\anaconda3\\envs\\octa-images\\lib\\site-packages\\requests\\adapters.py:519\u001b[0m, in \u001b[0;36mHTTPAdapter.send\u001b[1;34m(self, request, stream, timeout, verify, cert, proxies)\u001b[0m\n\u001b[0;32m    515\u001b[0m     \u001b[38;5;28;01mif\u001b[39;00m \u001b[38;5;28misinstance\u001b[39m(e\u001b[38;5;241m.\u001b[39mreason, _SSLError):\n\u001b[0;32m    516\u001b[0m         \u001b[38;5;66;03m# This branch is for urllib3 v1.22 and later.\u001b[39;00m\n\u001b[0;32m    517\u001b[0m         \u001b[38;5;28;01mraise\u001b[39;00m SSLError(e, request\u001b[38;5;241m=\u001b[39mrequest)\n\u001b[1;32m--> 519\u001b[0m     \u001b[38;5;28;01mraise\u001b[39;00m \u001b[38;5;167;01mConnectionError\u001b[39;00m(e, request\u001b[38;5;241m=\u001b[39mrequest)\n\u001b[0;32m    521\u001b[0m \u001b[38;5;28;01mexcept\u001b[39;00m ClosedPoolError \u001b[38;5;28;01mas\u001b[39;00m e:\n\u001b[0;32m    522\u001b[0m     \u001b[38;5;28;01mraise\u001b[39;00m \u001b[38;5;167;01mConnectionError\u001b[39;00m(e, request\u001b[38;5;241m=\u001b[39mrequest)\n",
      "\u001b[1;31mConnectionError\u001b[0m: HTTPConnectionPool(host='35.184.5.78', port=5010): Max retries exceeded with url: /config (Caused by NewConnectionError('<urllib3.connection.HTTPConnection object at 0x000001F972B9BEE0>: Failed to establish a new connection: [WinError 10061] Nenhuma conexão pôde ser feita porque a máquina de destino as recusou ativamente'))"
     ]
    }
   ],
   "source": [
    "import requests\n",
    "\n",
    "# Define the endpoint URL\n",
    "url = f\"{AI_CAMERA_CLIENT_API_URL}/config\"\n",
    "\n",
    "# Example data to be sent in the request\n",
    "data = {\n",
    "    \"user_id\": \"example_user_id\",\n",
    "    \"camera_id\": \"example_camera_id\",\n",
    "    \"object_id\": \"example_object_id\",\n",
    "    \"schedule\": \"0 20 * * *\"\n",
    "}\n",
    "\n",
    "# Make a POST request to the endpoint with the example data\n",
    "res = requests.post(url, json=data)\n",
    "\n",
    "# Print the response\n",
    "print(\"Response status code:\", res.status_code)\n",
    "print(\"Response body:\", res.json())\n"
   ]
  },
  {
   "cell_type": "markdown",
   "id": "479ab48b-a73d-480f-b502-e41c28fb2ab4",
   "metadata": {},
   "source": [
    "#### List configs and jobs"
   ]
  },
  {
   "cell_type": "code",
   "execution_count": null,
   "id": "d171a6bc-c56d-4275-9b62-c35e1606ec5e",
   "metadata": {},
   "outputs": [],
   "source": [
    "configs = list_configs()\n",
    "display(configs)\n",
    "print()\n",
    "jobs = list_jobs()\n",
    "display(jobs)"
   ]
  },
  {
   "cell_type": "markdown",
   "id": "eb335162-5b60-4f27-ac92-5159bb761cf4",
   "metadata": {},
   "source": [
    "#### Update AI task configuration"
   ]
  },
  {
   "cell_type": "code",
   "execution_count": 14,
   "id": "515b47d3-039d-4450-8334-2d611bd0138c",
   "metadata": {},
   "outputs": [
    {
     "name": "stdout",
     "output_type": "stream",
     "text": [
      "Response status code: 200\n",
      "Response body: {\"config_id\":\"66062c650071575e12517f52\",\"detail\":\"Configuration object update and job updated successfully\",\"message\":\"OK\",\"ok\":true,\"status_code\":200}\n",
      "\n"
     ]
    }
   ],
   "source": [
    "import requests\n",
    "\n",
    "config_id = '66062c650071575e12517f52'\n",
    "\n",
    "# Define the endpoint URL\n",
    "url = f\"{AI_CAMERA_CLIENT_API_URL}/config/{config_id}\"\n",
    "\n",
    "# Example data to be sent in the request\n",
    "data = {\n",
    "    \"user_id\": \"TEST\",\n",
    "    \"camera_id\": \"TEST\",\n",
    "    \"object_id\": \"TEST\",\n",
    "    \"schedule\": \"0 15 * * *\"\n",
    "}\n",
    "\n",
    "# Make a POST request to the endpoint with the example data\n",
    "res = requests.put(url, json=data)\n",
    "\n",
    "# Print the response\n",
    "print(\"Response status code:\", res.status_code)\n",
    "print(\"Response body:\", res.text)\n"
   ]
  },
  {
   "cell_type": "markdown",
   "id": "fde15b0d-0ec6-4b0e-83dd-3ab7fb62ae6c",
   "metadata": {},
   "source": [
    "#### List configs and jobs"
   ]
  },
  {
   "cell_type": "code",
   "execution_count": 15,
   "id": "f61ec0f0-4490-4d6c-9ac1-101252312448",
   "metadata": {},
   "outputs": [
    {
     "name": "stdout",
     "output_type": "stream",
     "text": [
      "status_code: 200\n",
      "message: OK\n"
     ]
    },
    {
     "data": {
      "text/plain": [
       "[{'_id': '66062c650071575e12517f52',\n",
       "  'camera_id': 'TEST',\n",
       "  'object_id': 'TEST',\n",
       "  'schedule': '0 15 * * *',\n",
       "  'user_id': 'TEST'}]"
      ]
     },
     "metadata": {},
     "output_type": "display_data"
    },
    {
     "name": "stdout",
     "output_type": "stream",
     "text": [
      "\n",
      "status_code: 200\n",
      "message: OK\n"
     ]
    },
    {
     "data": {
      "text/plain": [
       "[{'http_target': {'http_method': 2,\n",
       "   'uri': 'http://104.154.237.5:5000/process_config/66062c650071575e12517f52'},\n",
       "  'name': 'projects/octacity-413119/locations/us-central1/jobs/config-66062c650071575e12517f52',\n",
       "  'schedule': '0 15 * * *',\n",
       "  'time_zone': 'America/Sao_Paulo'},\n",
       " {'http_target': {'http_method': 1,\n",
       "   'uri': 'https://octa-api-veuei2iu4q-uc.a.run.app/alertario/instance_switch'},\n",
       "  'name': 'projects/octacity-413119/locations/us-central1/jobs/instance-switch',\n",
       "  'schedule': '0 */2 * * *',\n",
       "  'time_zone': 'America/Sao_Paulo'},\n",
       " {'http_target': {'http_method': 1,\n",
       "   'uri': 'https://octa-api-veuei2iu4q-uc.a.run.app/alertario/job_switch'},\n",
       "  'name': 'projects/octacity-413119/locations/us-central1/jobs/job-switch',\n",
       "  'schedule': '0 */2 * * *',\n",
       "  'time_zone': 'America/Sao_Paulo'},\n",
       " {'http_target': {'http_method': 2,\n",
       "   'uri': 'https://octa-api-veuei2iu4q-uc.a.run.app/tasks/post/polygons/cameras/flood_classification?max_frames=25&process_each=6&process=flood-classification-yolo&max_threads=20&confidence=0.60&db=Waterbag&coll=CameraFloodClassification&overwrite=true'},\n",
       "  'name': 'projects/octacity-413119/locations/us-central1/jobs/post-camera-flood',\n",
       "  'schedule': '*/10 * * * *',\n",
       "  'time_zone': 'America/Sao_Paulo'},\n",
       " {'http_target': {'http_method': 2,\n",
       "   'uri': 'https://octa-api-veuei2iu4q-uc.a.run.app/tasks/post/cameras/alertario/stations?db=Waterbag&coll=CamerasClosestPluviometers&overwrite=true'},\n",
       "  'name': 'projects/octacity-413119/locations/us-central1/jobs/post-cameras-closest-pluviometers',\n",
       "  'schedule': '*/1 * * * *',\n",
       "  'time_zone': 'America/Sao_Paulo'},\n",
       " {'http_target': {'http_method': 2,\n",
       "   'uri': 'https://octa-api-veuei2iu4q-uc.a.run.app/tasks/post/clusters?db=Waterbag&coll=Polygons&overwrite=false'},\n",
       "  'name': 'projects/octacity-413119/locations/us-central1/jobs/post-polygons',\n",
       "  'schedule': '*/2 * * * *',\n",
       "  'time_zone': 'America/Sao_Paulo'},\n",
       " {'http_target': {'http_method': 2,\n",
       "   'uri': 'https://octa-api-veuei2iu4q-uc.a.run.app/tasks/post/predict/live?db=Waterbag&coll=Prediction&overwrite=false&as_datetime=timestamp'},\n",
       "  'name': 'projects/octacity-413119/locations/us-central1/jobs/post-predict',\n",
       "  'schedule': '*/5 * * * *',\n",
       "  'time_zone': 'America/Sao_Paulo'},\n",
       " {'http_target': {'http_method': 1,\n",
       "   'uri': 'https://cams-rio-veuei2iu4q-uc.a.run.app/record/points'},\n",
       "  'name': 'projects/octacity-413119/locations/us-central1/jobs/record-comando',\n",
       "  'schedule': '*/3 * * * *',\n",
       "  'time_zone': 'America/Sao_Paulo'},\n",
       " {'http_target': {'http_method': 1,\n",
       "   'uri': 'https://cams-rio-veuei2iu4q-uc.a.run.app/record/points'},\n",
       "  'name': 'projects/octacity-413119/locations/us-central1/jobs/record-polygons',\n",
       "  'schedule': '*/3 * * * *',\n",
       "  'time_zone': 'America/Sao_Paulo'}]"
      ]
     },
     "metadata": {},
     "output_type": "display_data"
    }
   ],
   "source": [
    "configs = list_configs()\n",
    "display(configs)\n",
    "print()\n",
    "jobs = list_jobs()\n",
    "display(jobs)"
   ]
  },
  {
   "cell_type": "markdown",
   "id": "39962925-13bb-4d81-932a-c16a518d526d",
   "metadata": {},
   "source": [
    "#### Delete AI task configuration"
   ]
  },
  {
   "cell_type": "code",
   "execution_count": 16,
   "id": "636b9ce8-6772-4cdd-85ac-c5da2a3bb92f",
   "metadata": {},
   "outputs": [
    {
     "name": "stdout",
     "output_type": "stream",
     "text": [
      "Response status code: 200\n",
      "Response body: {\"config_id\":\"66062c650071575e12517f52\",\"detail\":\"Configuration object deleted and job deleted successfully\"}\n",
      "\n"
     ]
    }
   ],
   "source": [
    "import requests\n",
    "\n",
    "config_id = '66062c650071575e12517f52'\n",
    "\n",
    "# Define the endpoint URL\n",
    "url = f\"{AI_CAMERA_CLIENT_API_URL}/config/{config_id}\"\n",
    "\n",
    "# Make a POST request to the endpoint with the example data\n",
    "res = requests.delete(url)\n",
    "\n",
    "# Print the response\n",
    "print(\"Response status code:\", res.status_code)\n",
    "print(\"Response body:\", res.text)\n"
   ]
  },
  {
   "cell_type": "markdown",
   "id": "684f6ab8-3cd3-45ba-a59a-ef1239b1a869",
   "metadata": {},
   "source": [
    "#### List configs and jobs"
   ]
  },
  {
   "cell_type": "code",
   "execution_count": 17,
   "id": "f950e85a-7b1a-4f3c-bf6f-4abeeb28c12a",
   "metadata": {},
   "outputs": [
    {
     "name": "stdout",
     "output_type": "stream",
     "text": [
      "status_code: 200\n",
      "message: OK\n"
     ]
    },
    {
     "data": {
      "text/plain": [
       "[]"
      ]
     },
     "metadata": {},
     "output_type": "display_data"
    },
    {
     "name": "stdout",
     "output_type": "stream",
     "text": [
      "\n",
      "status_code: 200\n",
      "message: OK\n"
     ]
    },
    {
     "data": {
      "text/plain": [
       "[{'http_target': {'http_method': 1,\n",
       "   'uri': 'https://octa-api-veuei2iu4q-uc.a.run.app/alertario/instance_switch'},\n",
       "  'name': 'projects/octacity-413119/locations/us-central1/jobs/instance-switch',\n",
       "  'schedule': '0 */2 * * *',\n",
       "  'time_zone': 'America/Sao_Paulo'},\n",
       " {'http_target': {'http_method': 1,\n",
       "   'uri': 'https://octa-api-veuei2iu4q-uc.a.run.app/alertario/job_switch'},\n",
       "  'name': 'projects/octacity-413119/locations/us-central1/jobs/job-switch',\n",
       "  'schedule': '0 */2 * * *',\n",
       "  'time_zone': 'America/Sao_Paulo'},\n",
       " {'http_target': {'http_method': 2,\n",
       "   'uri': 'https://octa-api-veuei2iu4q-uc.a.run.app/tasks/post/polygons/cameras/flood_classification?max_frames=25&process_each=6&process=flood-classification-yolo&max_threads=20&confidence=0.60&db=Waterbag&coll=CameraFloodClassification&overwrite=true'},\n",
       "  'name': 'projects/octacity-413119/locations/us-central1/jobs/post-camera-flood',\n",
       "  'schedule': '*/10 * * * *',\n",
       "  'time_zone': 'America/Sao_Paulo'},\n",
       " {'http_target': {'http_method': 2,\n",
       "   'uri': 'https://octa-api-veuei2iu4q-uc.a.run.app/tasks/post/cameras/alertario/stations?db=Waterbag&coll=CamerasClosestPluviometers&overwrite=true'},\n",
       "  'name': 'projects/octacity-413119/locations/us-central1/jobs/post-cameras-closest-pluviometers',\n",
       "  'schedule': '*/1 * * * *',\n",
       "  'time_zone': 'America/Sao_Paulo'},\n",
       " {'http_target': {'http_method': 2,\n",
       "   'uri': 'https://octa-api-veuei2iu4q-uc.a.run.app/tasks/post/clusters?db=Waterbag&coll=Polygons&overwrite=false'},\n",
       "  'name': 'projects/octacity-413119/locations/us-central1/jobs/post-polygons',\n",
       "  'schedule': '*/2 * * * *',\n",
       "  'time_zone': 'America/Sao_Paulo'},\n",
       " {'http_target': {'http_method': 2,\n",
       "   'uri': 'https://octa-api-veuei2iu4q-uc.a.run.app/tasks/post/predict/live?db=Waterbag&coll=Prediction&overwrite=false&as_datetime=timestamp'},\n",
       "  'name': 'projects/octacity-413119/locations/us-central1/jobs/post-predict',\n",
       "  'schedule': '*/5 * * * *',\n",
       "  'time_zone': 'America/Sao_Paulo'},\n",
       " {'http_target': {'http_method': 1,\n",
       "   'uri': 'https://cams-rio-veuei2iu4q-uc.a.run.app/record/points'},\n",
       "  'name': 'projects/octacity-413119/locations/us-central1/jobs/record-comando',\n",
       "  'schedule': '*/3 * * * *',\n",
       "  'time_zone': 'America/Sao_Paulo'},\n",
       " {'http_target': {'http_method': 1,\n",
       "   'uri': 'https://cams-rio-veuei2iu4q-uc.a.run.app/record/points'},\n",
       "  'name': 'projects/octacity-413119/locations/us-central1/jobs/record-polygons',\n",
       "  'schedule': '*/3 * * * *',\n",
       "  'time_zone': 'America/Sao_Paulo'}]"
      ]
     },
     "metadata": {},
     "output_type": "display_data"
    }
   ],
   "source": [
    "configs = list_configs()\n",
    "display(configs)\n",
    "print()\n",
    "jobs = list_jobs()\n",
    "display(jobs)"
   ]
  }
 ],
 "metadata": {
  "kernelspec": {
   "display_name": "Python 3 (ipykernel)",
   "language": "python",
   "name": "python3"
  },
  "language_info": {
   "codemirror_mode": {
    "name": "ipython",
    "version": 3
   },
   "file_extension": ".py",
   "mimetype": "text/x-python",
   "name": "python",
   "nbconvert_exporter": "python",
   "pygments_lexer": "ipython3",
   "version": "3.8.18"
  }
 },
 "nbformat": 4,
 "nbformat_minor": 5
}
