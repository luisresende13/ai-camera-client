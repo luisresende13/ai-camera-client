{
 "cells": [
  {
   "cell_type": "markdown",
   "id": "74c0da4e-c301-40a5-b4b1-b3e66e3fe2a0",
   "metadata": {},
   "source": [
    "#### Helper functions"
   ]
  },
  {
   "cell_type": "code",
   "execution_count": 1,
   "id": "3b933c60-0dac-4dad-806b-c687b8b98d3c",
   "metadata": {},
   "outputs": [],
   "source": [
    "import os\n",
    "import requests\n",
    "\n",
    "MONGO_API_URL = os.environ['MONGO_API_URL']\n",
    "CLOUD_SCHEDULER_API_URL = os.environ['CLOUD_SCHEDULER_API_URL']\n",
    "SCHEDULER_PROJECT_ID = os.environ['SCHEDULER_PROJECT_ID']\n",
    "SCHEDULER_LOCATION = os.environ['SCHEDULER_LOCATION']\n",
    "\n",
    "def list_configs():\n",
    "    url = f'{MONGO_API_URL}/octacity/configs'\n",
    "    res = requests.get(url)\n",
    "    \n",
    "    print('status_code:', res.status_code)\n",
    "    print('message:', res.reason)\n",
    "    if res.ok:\n",
    "        return res.json()\n",
    "\n",
    "def list_jobs():\n",
    "    params = {\n",
    "        'project_id': SCHEDULER_PROJECT_ID,\n",
    "        'location': SCHEDULER_LOCATION,\n",
    "    }\n",
    "    url = f'{CLOUD_SCHEDULER_API_URL}/jobs/list'\n",
    "    res = requests.get(url, params=params)\n",
    "    \n",
    "    print('status_code:', res.status_code)\n",
    "    print('message:', res.reason)\n",
    "    if res.ok:\n",
    "        return res.json()\n"
   ]
  },
  {
   "cell_type": "markdown",
   "id": "fe449729-ff22-44d2-b505-f76f015e385f",
   "metadata": {},
   "source": [
    "#### List configs and jobs"
   ]
  },
  {
   "cell_type": "code",
   "execution_count": 2,
   "id": "ad93acc5-c31b-43f0-ac4c-1e4989ccd82f",
   "metadata": {},
   "outputs": [
    {
     "name": "stdout",
     "output_type": "stream",
     "text": [
      "status_code: 200\n",
      "message: OK\n"
     ]
    },
    {
     "data": {
      "text/plain": [
       "[]"
      ]
     },
     "metadata": {},
     "output_type": "display_data"
    },
    {
     "name": "stdout",
     "output_type": "stream",
     "text": [
      "\n",
      "status_code: 200\n",
      "message: OK\n"
     ]
    },
    {
     "data": {
      "text/plain": [
       "[{'http_target': {'http_method': 1,\n",
       "   'uri': 'https://octa-api-veuei2iu4q-uc.a.run.app/alertario/instance_switch'},\n",
       "  'name': 'projects/octacity-413119/locations/us-central1/jobs/instance-switch',\n",
       "  'schedule': '0 */2 * * *',\n",
       "  'time_zone': 'America/Sao_Paulo'},\n",
       " {'http_target': {'http_method': 1,\n",
       "   'uri': 'https://octa-api-veuei2iu4q-uc.a.run.app/alertario/job_switch'},\n",
       "  'name': 'projects/octacity-413119/locations/us-central1/jobs/job-switch',\n",
       "  'schedule': '0 */2 * * *',\n",
       "  'time_zone': 'America/Sao_Paulo'},\n",
       " {'http_target': {'http_method': 2,\n",
       "   'uri': 'https://octa-api-veuei2iu4q-uc.a.run.app/tasks/post/polygons/cameras/flood_classification?max_frames=25&process_each=6&process=flood-classification-yolo&max_threads=20&confidence=0.60&db=Waterbag&coll=CameraFloodClassification&overwrite=true'},\n",
       "  'name': 'projects/octacity-413119/locations/us-central1/jobs/post-camera-flood',\n",
       "  'schedule': '*/10 * * * *',\n",
       "  'time_zone': 'America/Sao_Paulo'},\n",
       " {'http_target': {'http_method': 2,\n",
       "   'uri': 'https://octa-api-veuei2iu4q-uc.a.run.app/tasks/post/cameras/alertario/stations?db=Waterbag&coll=CamerasClosestPluviometers&overwrite=true'},\n",
       "  'name': 'projects/octacity-413119/locations/us-central1/jobs/post-cameras-closest-pluviometers',\n",
       "  'schedule': '*/1 * * * *',\n",
       "  'time_zone': 'America/Sao_Paulo'},\n",
       " {'http_target': {'http_method': 2,\n",
       "   'uri': 'https://octa-api-veuei2iu4q-uc.a.run.app/tasks/post/clusters?db=Waterbag&coll=Polygons&overwrite=false'},\n",
       "  'name': 'projects/octacity-413119/locations/us-central1/jobs/post-polygons',\n",
       "  'schedule': '*/2 * * * *',\n",
       "  'time_zone': 'America/Sao_Paulo'},\n",
       " {'http_target': {'http_method': 2,\n",
       "   'uri': 'https://octa-api-veuei2iu4q-uc.a.run.app/tasks/post/predict/live?db=Waterbag&coll=Prediction&overwrite=false&as_datetime=timestamp'},\n",
       "  'name': 'projects/octacity-413119/locations/us-central1/jobs/post-predict',\n",
       "  'schedule': '*/5 * * * *',\n",
       "  'time_zone': 'America/Sao_Paulo'},\n",
       " {'http_target': {'http_method': 1,\n",
       "   'uri': 'https://cams-rio-veuei2iu4q-uc.a.run.app/record/points'},\n",
       "  'name': 'projects/octacity-413119/locations/us-central1/jobs/record-comando',\n",
       "  'schedule': '*/3 * * * *',\n",
       "  'time_zone': 'America/Sao_Paulo'},\n",
       " {'http_target': {'http_method': 1,\n",
       "   'uri': 'https://cams-rio-veuei2iu4q-uc.a.run.app/record/points'},\n",
       "  'name': 'projects/octacity-413119/locations/us-central1/jobs/record-polygons',\n",
       "  'schedule': '*/3 * * * *',\n",
       "  'time_zone': 'America/Sao_Paulo'}]"
      ]
     },
     "metadata": {},
     "output_type": "display_data"
    }
   ],
   "source": [
    "configs = list_configs()\n",
    "display(configs)\n",
    "print()\n",
    "jobs = list_jobs()\n",
    "display(jobs)"
   ]
  },
  {
   "cell_type": "markdown",
   "id": "1320baee-7f6f-45a4-b318-51e638c414b2",
   "metadata": {},
   "source": [
    "#### Post AI task configuration"
   ]
  },
  {
   "cell_type": "code",
   "execution_count": 3,
   "id": "81205108-7e76-426d-8f34-abaaaaabd62b",
   "metadata": {},
   "outputs": [
    {
     "name": "stdout",
     "output_type": "stream",
     "text": [
      "Response status code: 200\n",
      "Response body: {'config_id': '6603765a12f4c7783ec43879', 'detail': 'Configuration object created and job created successfully', 'message': 'OK', 'ok': True, 'status_code': 200}\n"
     ]
    }
   ],
   "source": [
    "import requests\n",
    "\n",
    "AI_CAMERA_CLIENT_URL = 'http://localhost:8080'\n",
    "\n",
    "# Define the endpoint URL\n",
    "url = f\"{AI_CAMERA_CLIENT_URL}/config\"\n",
    "\n",
    "# Example data to be sent in the request\n",
    "data = {\n",
    "    \"user_id\": \"example_user_id\",\n",
    "    \"camera_id\": \"example_camera_id\",\n",
    "    \"object_id\": \"example_object_id\",\n",
    "    \"schedule\": \"0 20 * * *\"\n",
    "}\n",
    "\n",
    "# Make a POST request to the endpoint with the example data\n",
    "res = requests.post(url, json=data)\n",
    "\n",
    "# Print the response\n",
    "print(\"Response status code:\", res.status_code)\n",
    "print(\"Response body:\", res.json())\n"
   ]
  },
  {
   "cell_type": "markdown",
   "id": "479ab48b-a73d-480f-b502-e41c28fb2ab4",
   "metadata": {},
   "source": [
    "#### List configs and jobs"
   ]
  },
  {
   "cell_type": "code",
   "execution_count": 5,
   "id": "d171a6bc-c56d-4275-9b62-c35e1606ec5e",
   "metadata": {},
   "outputs": [
    {
     "name": "stdout",
     "output_type": "stream",
     "text": [
      "status_code: 200\n",
      "message: OK\n"
     ]
    },
    {
     "data": {
      "text/plain": [
       "[{'_id': '6603765a12f4c7783ec43879',\n",
       "  'camera_id': 'example_camera_id',\n",
       "  'object_id': 'example_object_id',\n",
       "  'schedule': '0 20 * * *',\n",
       "  'user_id': 'example_user_id'}]"
      ]
     },
     "metadata": {},
     "output_type": "display_data"
    },
    {
     "name": "stdout",
     "output_type": "stream",
     "text": [
      "\n",
      "status_code: 200\n",
      "message: OK\n"
     ]
    },
    {
     "data": {
      "text/plain": [
       "[{'http_target': {'http_method': 2,\n",
       "   'uri': 'http://34.30.78.129:5006/process_stream_config?config_id=6603765a12f4c7783ec43879'},\n",
       "  'name': 'projects/octacity-413119/locations/us-central1/jobs/config-6603765a12f4c7783ec43879',\n",
       "  'schedule': '0 20 * * *',\n",
       "  'time_zone': 'America/Sao_Paulo'},\n",
       " {'http_target': {'http_method': 1,\n",
       "   'uri': 'https://octa-api-veuei2iu4q-uc.a.run.app/alertario/instance_switch'},\n",
       "  'name': 'projects/octacity-413119/locations/us-central1/jobs/instance-switch',\n",
       "  'schedule': '0 */2 * * *',\n",
       "  'time_zone': 'America/Sao_Paulo'},\n",
       " {'http_target': {'http_method': 1,\n",
       "   'uri': 'https://octa-api-veuei2iu4q-uc.a.run.app/alertario/job_switch'},\n",
       "  'name': 'projects/octacity-413119/locations/us-central1/jobs/job-switch',\n",
       "  'schedule': '0 */2 * * *',\n",
       "  'time_zone': 'America/Sao_Paulo'},\n",
       " {'http_target': {'http_method': 2,\n",
       "   'uri': 'https://octa-api-veuei2iu4q-uc.a.run.app/tasks/post/polygons/cameras/flood_classification?max_frames=25&process_each=6&process=flood-classification-yolo&max_threads=20&confidence=0.60&db=Waterbag&coll=CameraFloodClassification&overwrite=true'},\n",
       "  'name': 'projects/octacity-413119/locations/us-central1/jobs/post-camera-flood',\n",
       "  'schedule': '*/10 * * * *',\n",
       "  'time_zone': 'America/Sao_Paulo'},\n",
       " {'http_target': {'http_method': 2,\n",
       "   'uri': 'https://octa-api-veuei2iu4q-uc.a.run.app/tasks/post/cameras/alertario/stations?db=Waterbag&coll=CamerasClosestPluviometers&overwrite=true'},\n",
       "  'name': 'projects/octacity-413119/locations/us-central1/jobs/post-cameras-closest-pluviometers',\n",
       "  'schedule': '*/1 * * * *',\n",
       "  'time_zone': 'America/Sao_Paulo'},\n",
       " {'http_target': {'http_method': 2,\n",
       "   'uri': 'https://octa-api-veuei2iu4q-uc.a.run.app/tasks/post/clusters?db=Waterbag&coll=Polygons&overwrite=false'},\n",
       "  'name': 'projects/octacity-413119/locations/us-central1/jobs/post-polygons',\n",
       "  'schedule': '*/2 * * * *',\n",
       "  'time_zone': 'America/Sao_Paulo'},\n",
       " {'http_target': {'http_method': 2,\n",
       "   'uri': 'https://octa-api-veuei2iu4q-uc.a.run.app/tasks/post/predict/live?db=Waterbag&coll=Prediction&overwrite=false&as_datetime=timestamp'},\n",
       "  'name': 'projects/octacity-413119/locations/us-central1/jobs/post-predict',\n",
       "  'schedule': '*/5 * * * *',\n",
       "  'time_zone': 'America/Sao_Paulo'},\n",
       " {'http_target': {'http_method': 1,\n",
       "   'uri': 'https://cams-rio-veuei2iu4q-uc.a.run.app/record/points'},\n",
       "  'name': 'projects/octacity-413119/locations/us-central1/jobs/record-comando',\n",
       "  'schedule': '*/3 * * * *',\n",
       "  'time_zone': 'America/Sao_Paulo'},\n",
       " {'http_target': {'http_method': 1,\n",
       "   'uri': 'https://cams-rio-veuei2iu4q-uc.a.run.app/record/points'},\n",
       "  'name': 'projects/octacity-413119/locations/us-central1/jobs/record-polygons',\n",
       "  'schedule': '*/3 * * * *',\n",
       "  'time_zone': 'America/Sao_Paulo'}]"
      ]
     },
     "metadata": {},
     "output_type": "display_data"
    }
   ],
   "source": [
    "configs = list_configs()\n",
    "display(configs)\n",
    "print()\n",
    "jobs = list_jobs()\n",
    "display(jobs)"
   ]
  },
  {
   "cell_type": "markdown",
   "id": "eb335162-5b60-4f27-ac92-5159bb761cf4",
   "metadata": {},
   "source": [
    "#### Update AI task configuration"
   ]
  },
  {
   "cell_type": "code",
   "execution_count": 6,
   "id": "515b47d3-039d-4450-8334-2d611bd0138c",
   "metadata": {},
   "outputs": [
    {
     "name": "stdout",
     "output_type": "stream",
     "text": [
      "Response status code: 200\n",
      "Response body: {\n",
      "  \"config_id\": \"6603765a12f4c7783ec43879\",\n",
      "  \"detail\": \"Configuration object update and job updated successfully\",\n",
      "  \"message\": \"OK\",\n",
      "  \"ok\": true,\n",
      "  \"status_code\": 200\n",
      "}\n",
      "\n"
     ]
    }
   ],
   "source": [
    "import requests\n",
    "\n",
    "AI_CAMERA_CLIENT_URL = 'http://localhost:8080'\n",
    "config_id = '6603765a12f4c7783ec43879'\n",
    "\n",
    "# Define the endpoint URL\n",
    "url = f\"{AI_CAMERA_CLIENT_URL}/config/{config_id}\"\n",
    "\n",
    "# Example data to be sent in the request\n",
    "data = {\n",
    "    \"user_id\": \"TEST\",\n",
    "    \"camera_id\": \"TEST\",\n",
    "    \"object_id\": \"TEST\",\n",
    "    \"schedule\": \"0 15 * * *\"\n",
    "}\n",
    "\n",
    "# Make a POST request to the endpoint with the example data\n",
    "res = requests.put(url, json=data)\n",
    "\n",
    "# Print the response\n",
    "print(\"Response status code:\", res.status_code)\n",
    "print(\"Response body:\", res.text)\n"
   ]
  },
  {
   "cell_type": "markdown",
   "id": "fde15b0d-0ec6-4b0e-83dd-3ab7fb62ae6c",
   "metadata": {},
   "source": [
    "#### List configs and jobs"
   ]
  },
  {
   "cell_type": "code",
   "execution_count": 7,
   "id": "f61ec0f0-4490-4d6c-9ac1-101252312448",
   "metadata": {},
   "outputs": [
    {
     "name": "stdout",
     "output_type": "stream",
     "text": [
      "status_code: 200\n",
      "message: OK\n"
     ]
    },
    {
     "data": {
      "text/plain": [
       "[{'_id': '6603765a12f4c7783ec43879',\n",
       "  'camera_id': 'TEST',\n",
       "  'object_id': 'TEST',\n",
       "  'schedule': '0 15 * * *',\n",
       "  'user_id': 'TEST'}]"
      ]
     },
     "metadata": {},
     "output_type": "display_data"
    },
    {
     "name": "stdout",
     "output_type": "stream",
     "text": [
      "\n",
      "status_code: 200\n",
      "message: OK\n"
     ]
    },
    {
     "data": {
      "text/plain": [
       "[{'http_target': {'http_method': 2,\n",
       "   'uri': 'http://34.30.78.129:5006/process_stream_config?config_id=6603765a12f4c7783ec43879'},\n",
       "  'name': 'projects/octacity-413119/locations/us-central1/jobs/config-6603765a12f4c7783ec43879',\n",
       "  'schedule': '0 15 * * *',\n",
       "  'time_zone': 'America/Sao_Paulo'},\n",
       " {'http_target': {'http_method': 1,\n",
       "   'uri': 'https://octa-api-veuei2iu4q-uc.a.run.app/alertario/instance_switch'},\n",
       "  'name': 'projects/octacity-413119/locations/us-central1/jobs/instance-switch',\n",
       "  'schedule': '0 */2 * * *',\n",
       "  'time_zone': 'America/Sao_Paulo'},\n",
       " {'http_target': {'http_method': 1,\n",
       "   'uri': 'https://octa-api-veuei2iu4q-uc.a.run.app/alertario/job_switch'},\n",
       "  'name': 'projects/octacity-413119/locations/us-central1/jobs/job-switch',\n",
       "  'schedule': '0 */2 * * *',\n",
       "  'time_zone': 'America/Sao_Paulo'},\n",
       " {'http_target': {'http_method': 2,\n",
       "   'uri': 'https://octa-api-veuei2iu4q-uc.a.run.app/tasks/post/polygons/cameras/flood_classification?max_frames=25&process_each=6&process=flood-classification-yolo&max_threads=20&confidence=0.60&db=Waterbag&coll=CameraFloodClassification&overwrite=true'},\n",
       "  'name': 'projects/octacity-413119/locations/us-central1/jobs/post-camera-flood',\n",
       "  'schedule': '*/10 * * * *',\n",
       "  'time_zone': 'America/Sao_Paulo'},\n",
       " {'http_target': {'http_method': 2,\n",
       "   'uri': 'https://octa-api-veuei2iu4q-uc.a.run.app/tasks/post/cameras/alertario/stations?db=Waterbag&coll=CamerasClosestPluviometers&overwrite=true'},\n",
       "  'name': 'projects/octacity-413119/locations/us-central1/jobs/post-cameras-closest-pluviometers',\n",
       "  'schedule': '*/1 * * * *',\n",
       "  'time_zone': 'America/Sao_Paulo'},\n",
       " {'http_target': {'http_method': 2,\n",
       "   'uri': 'https://octa-api-veuei2iu4q-uc.a.run.app/tasks/post/clusters?db=Waterbag&coll=Polygons&overwrite=false'},\n",
       "  'name': 'projects/octacity-413119/locations/us-central1/jobs/post-polygons',\n",
       "  'schedule': '*/2 * * * *',\n",
       "  'time_zone': 'America/Sao_Paulo'},\n",
       " {'http_target': {'http_method': 2,\n",
       "   'uri': 'https://octa-api-veuei2iu4q-uc.a.run.app/tasks/post/predict/live?db=Waterbag&coll=Prediction&overwrite=false&as_datetime=timestamp'},\n",
       "  'name': 'projects/octacity-413119/locations/us-central1/jobs/post-predict',\n",
       "  'schedule': '*/5 * * * *',\n",
       "  'time_zone': 'America/Sao_Paulo'},\n",
       " {'http_target': {'http_method': 1,\n",
       "   'uri': 'https://cams-rio-veuei2iu4q-uc.a.run.app/record/points'},\n",
       "  'name': 'projects/octacity-413119/locations/us-central1/jobs/record-comando',\n",
       "  'schedule': '*/3 * * * *',\n",
       "  'time_zone': 'America/Sao_Paulo'},\n",
       " {'http_target': {'http_method': 1,\n",
       "   'uri': 'https://cams-rio-veuei2iu4q-uc.a.run.app/record/points'},\n",
       "  'name': 'projects/octacity-413119/locations/us-central1/jobs/record-polygons',\n",
       "  'schedule': '*/3 * * * *',\n",
       "  'time_zone': 'America/Sao_Paulo'}]"
      ]
     },
     "metadata": {},
     "output_type": "display_data"
    }
   ],
   "source": [
    "configs = list_configs()\n",
    "display(configs)\n",
    "print()\n",
    "jobs = list_jobs()\n",
    "display(jobs)"
   ]
  },
  {
   "cell_type": "markdown",
   "id": "39962925-13bb-4d81-932a-c16a518d526d",
   "metadata": {},
   "source": [
    "#### Delete AI task configuration"
   ]
  },
  {
   "cell_type": "code",
   "execution_count": 8,
   "id": "636b9ce8-6772-4cdd-85ac-c5da2a3bb92f",
   "metadata": {},
   "outputs": [
    {
     "name": "stdout",
     "output_type": "stream",
     "text": [
      "Response status code: 200\n",
      "Response body: {\n",
      "  \"config_id\": \"6603765a12f4c7783ec43879\",\n",
      "  \"detail\": \"Configuration object deleted and job deleted successfully\"\n",
      "}\n",
      "\n"
     ]
    }
   ],
   "source": [
    "import requests\n",
    "\n",
    "AI_CAMERA_CLIENT_URL = 'http://localhost:8080'\n",
    "config_id = '6603765a12f4c7783ec43879'\n",
    "\n",
    "# Define the endpoint URL\n",
    "url = f\"{AI_CAMERA_CLIENT_URL}/config/{config_id}\"\n",
    "\n",
    "# Make a POST request to the endpoint with the example data\n",
    "res = requests.delete(url)\n",
    "\n",
    "# Print the response\n",
    "print(\"Response status code:\", res.status_code)\n",
    "print(\"Response body:\", res.text)\n"
   ]
  },
  {
   "cell_type": "markdown",
   "id": "684f6ab8-3cd3-45ba-a59a-ef1239b1a869",
   "metadata": {},
   "source": [
    "#### List configs and jobs"
   ]
  },
  {
   "cell_type": "code",
   "execution_count": 10,
   "id": "f950e85a-7b1a-4f3c-bf6f-4abeeb28c12a",
   "metadata": {},
   "outputs": [
    {
     "name": "stdout",
     "output_type": "stream",
     "text": [
      "status_code: 200\n",
      "message: OK\n"
     ]
    },
    {
     "data": {
      "text/plain": [
       "[]"
      ]
     },
     "metadata": {},
     "output_type": "display_data"
    },
    {
     "name": "stdout",
     "output_type": "stream",
     "text": [
      "\n",
      "status_code: 200\n",
      "message: OK\n"
     ]
    },
    {
     "data": {
      "text/plain": [
       "[{'http_target': {'http_method': 1,\n",
       "   'uri': 'https://octa-api-veuei2iu4q-uc.a.run.app/alertario/instance_switch'},\n",
       "  'name': 'projects/octacity-413119/locations/us-central1/jobs/instance-switch',\n",
       "  'schedule': '0 */2 * * *',\n",
       "  'time_zone': 'America/Sao_Paulo'},\n",
       " {'http_target': {'http_method': 1,\n",
       "   'uri': 'https://octa-api-veuei2iu4q-uc.a.run.app/alertario/job_switch'},\n",
       "  'name': 'projects/octacity-413119/locations/us-central1/jobs/job-switch',\n",
       "  'schedule': '0 */2 * * *',\n",
       "  'time_zone': 'America/Sao_Paulo'},\n",
       " {'http_target': {'http_method': 2,\n",
       "   'uri': 'https://octa-api-veuei2iu4q-uc.a.run.app/tasks/post/polygons/cameras/flood_classification?max_frames=25&process_each=6&process=flood-classification-yolo&max_threads=20&confidence=0.60&db=Waterbag&coll=CameraFloodClassification&overwrite=true'},\n",
       "  'name': 'projects/octacity-413119/locations/us-central1/jobs/post-camera-flood',\n",
       "  'schedule': '*/10 * * * *',\n",
       "  'time_zone': 'America/Sao_Paulo'},\n",
       " {'http_target': {'http_method': 2,\n",
       "   'uri': 'https://octa-api-veuei2iu4q-uc.a.run.app/tasks/post/cameras/alertario/stations?db=Waterbag&coll=CamerasClosestPluviometers&overwrite=true'},\n",
       "  'name': 'projects/octacity-413119/locations/us-central1/jobs/post-cameras-closest-pluviometers',\n",
       "  'schedule': '*/1 * * * *',\n",
       "  'time_zone': 'America/Sao_Paulo'},\n",
       " {'http_target': {'http_method': 2,\n",
       "   'uri': 'https://octa-api-veuei2iu4q-uc.a.run.app/tasks/post/clusters?db=Waterbag&coll=Polygons&overwrite=false'},\n",
       "  'name': 'projects/octacity-413119/locations/us-central1/jobs/post-polygons',\n",
       "  'schedule': '*/2 * * * *',\n",
       "  'time_zone': 'America/Sao_Paulo'},\n",
       " {'http_target': {'http_method': 2,\n",
       "   'uri': 'https://octa-api-veuei2iu4q-uc.a.run.app/tasks/post/predict/live?db=Waterbag&coll=Prediction&overwrite=false&as_datetime=timestamp'},\n",
       "  'name': 'projects/octacity-413119/locations/us-central1/jobs/post-predict',\n",
       "  'schedule': '*/5 * * * *',\n",
       "  'time_zone': 'America/Sao_Paulo'},\n",
       " {'http_target': {'http_method': 1,\n",
       "   'uri': 'https://cams-rio-veuei2iu4q-uc.a.run.app/record/points'},\n",
       "  'name': 'projects/octacity-413119/locations/us-central1/jobs/record-comando',\n",
       "  'schedule': '*/3 * * * *',\n",
       "  'time_zone': 'America/Sao_Paulo'},\n",
       " {'http_target': {'http_method': 1,\n",
       "   'uri': 'https://cams-rio-veuei2iu4q-uc.a.run.app/record/points'},\n",
       "  'name': 'projects/octacity-413119/locations/us-central1/jobs/record-polygons',\n",
       "  'schedule': '*/3 * * * *',\n",
       "  'time_zone': 'America/Sao_Paulo'}]"
      ]
     },
     "metadata": {},
     "output_type": "display_data"
    }
   ],
   "source": [
    "configs = list_configs()\n",
    "display(configs)\n",
    "print()\n",
    "jobs = list_jobs()\n",
    "display(jobs)"
   ]
  }
 ],
 "metadata": {
  "kernelspec": {
   "display_name": "Python 3 (ipykernel)",
   "language": "python",
   "name": "python3"
  },
  "language_info": {
   "codemirror_mode": {
    "name": "ipython",
    "version": 3
   },
   "file_extension": ".py",
   "mimetype": "text/x-python",
   "name": "python",
   "nbconvert_exporter": "python",
   "pygments_lexer": "ipython3",
   "version": "3.11.7"
  }
 },
 "nbformat": 4,
 "nbformat_minor": 5
}
