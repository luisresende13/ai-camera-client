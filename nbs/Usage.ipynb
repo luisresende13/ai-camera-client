{
 "cells": [
  {
   "cell_type": "markdown",
   "id": "1320baee-7f6f-45a4-b318-51e638c414b2",
   "metadata": {},
   "source": [
    "#### Post AI task configuration"
   ]
  },
  {
   "cell_type": "code",
   "execution_count": 9,
   "id": "81205108-7e76-426d-8f34-abaaaaabd62b",
   "metadata": {},
   "outputs": [
    {
     "name": "stdout",
     "output_type": "stream",
     "text": [
      "Response status code: 201\n",
      "Response body: {'detail': 'Configuration object created and job created successfully', 'message': 'OK', 'ok': True, 'status_code': 200}\n"
     ]
    }
   ],
   "source": [
    "import requests\n",
    "\n",
    "AI_CAMERA_CLIENT_URL = 'http://localhost:8080'\n",
    "\n",
    "# Define the endpoint URL\n",
    "endpoint_url = f\"{AI_CAMERA_CLIENT_URL}/config\"\n",
    "\n",
    "# Example data to be sent in the request\n",
    "data = {\n",
    "    \"user_id\": \"example_user\",\n",
    "    \"camera_id\": \"example_camera\",\n",
    "    \"object_id\": \"example_object\",\n",
    "    \"schedule\": \"0 15 * * *\"\n",
    "}\n",
    "\n",
    "# Make a POST request to the endpoint with the example data\n",
    "response = requests.post(endpoint_url, json=data)\n",
    "\n",
    "# Print the response\n",
    "print(\"Response status code:\", response.status_code)\n",
    "print(\"Response body:\", response.json())\n"
   ]
  }
 ],
 "metadata": {
  "kernelspec": {
   "display_name": "Python 3 (ipykernel)",
   "language": "python",
   "name": "python3"
  },
  "language_info": {
   "codemirror_mode": {
    "name": "ipython",
    "version": 3
   },
   "file_extension": ".py",
   "mimetype": "text/x-python",
   "name": "python",
   "nbconvert_exporter": "python",
   "pygments_lexer": "ipython3",
   "version": "3.11.7"
  }
 },
 "nbformat": 4,
 "nbformat_minor": 5
}
