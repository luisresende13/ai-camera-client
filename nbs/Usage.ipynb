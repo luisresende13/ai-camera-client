{
 "cells": [
  {
   "cell_type": "markdown",
   "id": "74c0da4e-c301-40a5-b4b1-b3e66e3fe2a0",
   "metadata": {},
   "source": [
    "#### Helper functions"
   ]
  },
  {
   "cell_type": "code",
   "execution_count": 27,
   "id": "3b933c60-0dac-4dad-806b-c687b8b98d3c",
   "metadata": {},
   "outputs": [],
   "source": [
    "import os\n",
    "import requests\n",
    "from mongodb_client.mongodb import MongoDB\n",
    "\n",
    "MONGO_API_URL = os.environ['MONGO_API_URL']\n",
    "CLOUD_SCHEDULER_API_URL = os.environ['CLOUD_SCHEDULER_API_URL']\n",
    "SCHEDULER_PROJECT_ID = os.environ['SCHEDULER_PROJECT_ID']\n",
    "SCHEDULER_LOCATION = os.environ['SCHEDULER_LOCATION']\n",
    "AI_CAMERA_CLIENT_API_URL = os.environ['AI_CAMERA_CLIENT_API_URL']\n",
    "\n",
    "mongodb = MongoDB(MONGO_API_URL)\n",
    "auth = {'email': 'luisresende13@gmail.com', 'password': 'Gaia0333'}\n",
    "mongodb.signin(**auth)\n",
    "\n",
    "def list_jobs():\n",
    "    params = {\n",
    "        'project_id': SCHEDULER_PROJECT_ID,\n",
    "        'location': SCHEDULER_LOCATION,\n",
    "    }\n",
    "    url = f'{CLOUD_SCHEDULER_API_URL}/jobs/list'\n",
    "    res = requests.get(url, params=params)\n",
    "    \n",
    "    print('status_code:', res.status_code)\n",
    "    print('message:', res.reason)\n",
    "    if res.ok:\n",
    "        return res.json()\n"
   ]
  },
  {
   "cell_type": "markdown",
   "id": "ca8e56cd-4445-4296-a5b9-7905d681abdf",
   "metadata": {},
   "source": [
    "#### List classes"
   ]
  },
  {
   "cell_type": "code",
   "execution_count": 70,
   "id": "60c2c6f4-299e-4941-b5ca-39447b13bf45",
   "metadata": {},
   "outputs": [
    {
     "data": {
      "text/plain": [
       "[{'_id': '66359433f80018829b662dba',\n",
       "  'class_id': 0,\n",
       "  'class_name': 'fire',\n",
       "  'model_class': 'YOLOWrap',\n",
       "  'model_name': 'yolov8-fire',\n",
       "  'model_path': 'models/yolov8-fire.pt',\n",
       "  'names_path': 'data/yolov8/yolov8-fire.names'},\n",
       " {'_id': '66359433f80018829b662dbc',\n",
       "  'class_id': 2,\n",
       "  'class_name': 'smoke',\n",
       "  'model_class': 'YOLOWrap',\n",
       "  'model_name': 'yolov8-fire',\n",
       "  'model_path': 'models/yolov8-fire.pt',\n",
       "  'names_path': 'data/yolov8/yolov8-fire.names'},\n",
       " {'_id': '66359433f80018829b662dbe',\n",
       "  'class_id': 1,\n",
       "  'class_name': 'rifle',\n",
       "  'model_class': 'YOLOWrap',\n",
       "  'model_name': 'yolov8-gun',\n",
       "  'model_path': 'models/yolov8-gun.pt',\n",
       "  'names_path': 'data/yolov8/yolov8-gun.names'},\n",
       " {'_id': '66359433f80018829b662dc0',\n",
       "  'class_id': 1,\n",
       "  'class_name': 'left_hand_up',\n",
       "  'model_class': 'YoloV8HandsUp',\n",
       "  'model_name': 'yolov8-handsup',\n",
       "  'model_path': 'models/yolov8s-pose.pt',\n",
       "  'names_path': 'data/yolov8/yolov8-handsup.names'},\n",
       " {'_id': '66359433f80018829b662dcb',\n",
       "  'class_id': 7,\n",
       "  'class_name': 'truck',\n",
       "  'model_class': 'YOLO',\n",
       "  'model_name': 'yolov8',\n",
       "  'model_path': 'models/yolov8s.pt',\n",
       "  'names_path': 'data/yolov8/yolov8.names'},\n",
       " {'_id': '66359433f80018829b662dcd',\n",
       "  'class_id': 9,\n",
       "  'class_name': 'traffic light',\n",
       "  'model_class': 'YOLO',\n",
       "  'model_name': 'yolov8',\n",
       "  'model_path': 'models/yolov8s.pt',\n",
       "  'names_path': 'data/yolov8/yolov8.names'},\n",
       " {'_id': '66359433f80018829b662dce',\n",
       "  'class_id': 10,\n",
       "  'class_name': 'fire hydrant',\n",
       "  'model_class': 'YOLO',\n",
       "  'model_name': 'yolov8',\n",
       "  'model_path': 'models/yolov8s.pt',\n",
       "  'names_path': 'data/yolov8/yolov8.names'},\n",
       " {'_id': '66359433f80018829b662dd0',\n",
       "  'class_id': 12,\n",
       "  'class_name': 'parking meter',\n",
       "  'model_class': 'YOLO',\n",
       "  'model_name': 'yolov8',\n",
       "  'model_path': 'models/yolov8s.pt',\n",
       "  'names_path': 'data/yolov8/yolov8.names'},\n",
       " {'_id': '66359433f80018829b662dd3',\n",
       "  'class_id': 15,\n",
       "  'class_name': 'cat',\n",
       "  'model_class': 'YOLO',\n",
       "  'model_name': 'yolov8',\n",
       "  'model_path': 'models/yolov8s.pt',\n",
       "  'names_path': 'data/yolov8/yolov8.names'},\n",
       " {'_id': '66359433f80018829b662ddc',\n",
       "  'class_id': 24,\n",
       "  'class_name': 'backpack',\n",
       "  'model_class': 'YOLO',\n",
       "  'model_name': 'yolov8',\n",
       "  'model_path': 'models/yolov8s.pt',\n",
       "  'names_path': 'data/yolov8/yolov8.names'}]"
      ]
     },
     "metadata": {},
     "output_type": "display_data"
    }
   ],
   "source": [
    "classes = mongodb.get_records('octacity', 'classes')\n",
    "display(classes[:10])"
   ]
  },
  {
   "cell_type": "markdown",
   "id": "fe449729-ff22-44d2-b505-f76f015e385f",
   "metadata": {},
   "source": [
    "#### List configs and jobs"
   ]
  },
  {
   "cell_type": "code",
   "execution_count": 69,
   "id": "0d9a5cb6-7866-46e5-8d85-35aaed187a23",
   "metadata": {},
   "outputs": [
    {
     "data": {
      "text/plain": [
       "[]"
      ]
     },
     "metadata": {},
     "output_type": "display_data"
    },
    {
     "name": "stdout",
     "output_type": "stream",
     "text": [
      "\n",
      "status_code: 200\n",
      "message: OK\n"
     ]
    },
    {
     "data": {
      "text/plain": [
       "[]"
      ]
     },
     "metadata": {},
     "output_type": "display_data"
    }
   ],
   "source": [
    "configs = mongodb.get_records('octacity', 'configs')\n",
    "display(configs)\n",
    "print()\n",
    "\n",
    "jobs = list_jobs()\n",
    "display(jobs)"
   ]
  },
  {
   "cell_type": "markdown",
   "id": "1b2a4f23-0b00-44c9-9f73-495919011463",
   "metadata": {},
   "source": [
    "#### List cameras"
   ]
  },
  {
   "cell_type": "code",
   "execution_count": 24,
   "id": "a6e17ddc-2dee-4be0-a50d-397e674bb846",
   "metadata": {},
   "outputs": [
    {
     "data": {
      "text/plain": [
       "[{'_id': '661c20768553dfc97a6b902a',\n",
       "  'address': 'app.tixxi.rio',\n",
       "  'name': 'CAM002',\n",
       "  'port': 443,\n",
       "  'protocol': 'https',\n",
       "  'subpath': '/outvideo/?KEY=O2417&CODE=2'}]"
      ]
     },
     "metadata": {},
     "output_type": "display_data"
    }
   ],
   "source": [
    "cameras = mongodb.get_records('octacity', 'cameras')\n",
    "display(cameras[:1])"
   ]
  },
  {
   "cell_type": "markdown",
   "id": "dfbc574e-a503-4be7-a14e-59c42e3dece7",
   "metadata": {},
   "source": [
    "#### List users"
   ]
  },
  {
   "cell_type": "code",
   "execution_count": 29,
   "id": "35c559b8-f7b5-4e9d-8497-b78d3cecc42e",
   "metadata": {},
   "outputs": [
    {
     "data": {
      "text/plain": [
       "[{'_id': '66065f62e8005b6e641b4165',\n",
       "  'email': 'luisresende13@gmail.com',\n",
       "  'password': 'Gaia0333',\n",
       "  'username': 'luisresende13'},\n",
       " {'_id': '661d9620e525d7a1fda2457f',\n",
       "  'email': 'andre.bro@hotmail.com',\n",
       "  'name': 'André Gonçalves',\n",
       "  'password': 'Volkner123'},\n",
       " {'_id': '661eccda29867e7dbadfd2fe',\n",
       "  'email': 'luisresende@id.uff.br',\n",
       "  'name': 'Luis',\n",
       "  'password': 'Gaia0333'}]"
      ]
     },
     "metadata": {},
     "output_type": "display_data"
    }
   ],
   "source": [
    "users = mongodb.get_records('octacity', 'users')\n",
    "display(users)"
   ]
  },
  {
   "cell_type": "markdown",
   "id": "f22170eb-a38d-41bc-b43f-7d2610ae1ec1",
   "metadata": {},
   "source": [
    "#### Post camera"
   ]
  },
  {
   "cell_type": "code",
   "execution_count": 61,
   "id": "f82a73af-5238-41e1-a827-1f5bb43fbc23",
   "metadata": {},
   "outputs": [
    {
     "name": "stdout",
     "output_type": "stream",
     "text": [
      "Response status code: 201\n",
      "Response body: {\"camera_id\":\"66a6ac0b2799a3996dc9f1e9\",\"data\":{\"_id\":\"66a6ac0b2799a3996dc9f1e9\",\"address\":\"appnittrans.niteroi.rj.gov.br\",\"connected\":true,\"fps\":9.999919691228836,\"height\":450,\"message\":\"Camera connection successful.\",\"monitor_id\":null,\"name\":\"CAM00001\",\"port\":8888,\"protocol\":\"https\",\"subpath\":\"000001/last_video.mp4\",\"url\":\"https://appnittrans.niteroi.rj.gov.br:8888/000001/last_video.mp4\",\"user_id\":\"66065f62e8005b6e641b4165\",\"width\":800,\"zm_url\":null},\"detail\":\"Camera object monitor created successfully\",\"ok\":true}\n",
      "\n"
     ]
    }
   ],
   "source": [
    "import requests\n",
    "\n",
    "# Define the endpoint URL\n",
    "url = f\"{AI_CAMERA_CLIENT_API_URL}/cameras\"\n",
    "\n",
    "data = {\n",
    "    'user_id': '661eccda29867e7dbadfd2fe',\n",
    "    'name': 'CAM00001',\n",
    "    'protocol': 'http',\n",
    "    'address': '103.151.177.124',\n",
    "    'port': 91,\n",
    "    'subpath': 'mjpg/video.mjpg',\n",
    "    'attach_monitor': 'false',\n",
    "}\n",
    "\n",
    "data = {\n",
    "    'user_id': '66065f62e8005b6e641b4165',\n",
    "    'name': 'CAM00001',\n",
    "    'protocol': 'https',\n",
    "    'address': 'appnittrans.niteroi.rj.gov.br',\n",
    "    'port': 8888,\n",
    "    'subpath': '000001/last_video.mp4',\n",
    "}\n",
    "\n",
    "# Make a POST request to the endpoint with the example data\n",
    "res = requests.post(url, json=data)\n",
    "\n",
    "# Print the response\n",
    "print(\"Response status code:\", res.status_code)\n",
    "print(\"Response body:\", res.text)\n"
   ]
  },
  {
   "cell_type": "markdown",
   "id": "3745e050-aec3-4f05-8f03-8914f918a604",
   "metadata": {},
   "source": [
    "#### Update camera"
   ]
  },
  {
   "cell_type": "code",
   "execution_count": 57,
   "id": "f8429639-90e0-41ad-9145-eb477e18f368",
   "metadata": {},
   "outputs": [
    {
     "name": "stdout",
     "output_type": "stream",
     "text": [
      "Response status code: 200\n",
      "Response body: {\"camera_id\":\"66a6a1292799a3996dc9f1e8\",\"data\":{\"connected\":true,\"fps\":10.017319682931735,\"height\":450,\"message\":\"Camera connection successful.\",\"name\":\"teste\",\"ok\":true,\"subpath\":\"000002/last_video.mp4\",\"url\":\"https://appnittrans.niteroi.rj.gov.br:8888/000002/last_video.mp4\",\"width\":800},\"detail\":\"Camera object updated and monitor updated successfully\",\"ok\":true}\n",
      "\n"
     ]
    }
   ],
   "source": [
    "import requests\n",
    "\n",
    "camera_id = '66a6a1292799a3996dc9f1e8'\n",
    "url = f\"{AI_CAMERA_CLIENT_API_URL}/cameras/{camera_id}\"\n",
    "\n",
    "# data = {\n",
    "# #     'name': 'avenue_6',\n",
    "#     'protocol': 'http',\n",
    "#     'address': '103.151.177.124',\n",
    "#     'port': 91,\n",
    "#     'subpath': 'mjpg/video.mjpg',\n",
    "# }\n",
    "\n",
    "data = {\n",
    "    'name': 'teste',\n",
    "    # 'protocol': 'https',\n",
    "    # 'address': 'admin:141291@octateste.ddns-intelbras.com.br',\n",
    "    # 'port': 554,\n",
    "    'subpath': '000002/last_video.mp4',\n",
    "}\n",
    "\n",
    "# Make a POST request to the endpoint with the example data\n",
    "res = requests.put(url, json=data)\n",
    "\n",
    "# Print the response\n",
    "print(\"Response status code:\", res.status_code)\n",
    "print(\"Response body:\", res.text)\n"
   ]
  },
  {
   "cell_type": "markdown",
   "id": "e05d3384-576a-4120-acd2-3e3bdc1deee1",
   "metadata": {},
   "source": [
    "#### Get camera"
   ]
  },
  {
   "cell_type": "code",
   "execution_count": 60,
   "id": "8a2106a9-f08c-48a7-ac64-233f6a4600a6",
   "metadata": {},
   "outputs": [
    {
     "data": {
      "text/plain": [
       "{'error': 'Request failed | status-code: 404 | message: NOT FOUND | response: Record not found'}"
      ]
     },
     "execution_count": 60,
     "metadata": {},
     "output_type": "execute_result"
    }
   ],
   "source": [
    "camera_id = '66a6a1292799a3996dc9f1e8'\n",
    "\n",
    "camera = mongodb.get_record_by_id('octacity', 'cameras', camera_id)\n",
    "\n",
    "camera"
   ]
  },
  {
   "cell_type": "markdown",
   "id": "09e74d15-1678-40eb-84ea-baca65f5b5f0",
   "metadata": {},
   "source": [
    "#### Delete camera"
   ]
  },
  {
   "cell_type": "code",
   "execution_count": 59,
   "id": "c6d290e6-6a8d-4c04-ab15-baa67a19e804",
   "metadata": {},
   "outputs": [
    {
     "name": "stdout",
     "output_type": "stream",
     "text": [
      "Response status code: 500\n",
      "Response body: <!doctype html>\n",
      "<html lang=en>\n",
      "<title>500 Internal Server Error</title>\n",
      "<h1>Internal Server Error</h1>\n",
      "<p>The server encountered an internal error and was unable to complete your request. Either the server is overloaded or there is an error in the application.</p>\n",
      "\n"
     ]
    }
   ],
   "source": [
    "import requests\n",
    "\n",
    "camera_id = '66a6a1292799a3996dc9f1e8'\n",
    "url = f\"{AI_CAMERA_CLIENT_API_URL}/cameras/{camera_id}\"\n",
    "\n",
    "res = requests.delete(url, json=data)\n",
    "\n",
    "# Print the response\n",
    "print(\"Response status code:\", res.status_code)\n",
    "print(\"Response body:\", res.text)\n"
   ]
  },
  {
   "cell_type": "markdown",
   "id": "bc649f60-7a5f-44fb-9526-9d1eb48d5a8f",
   "metadata": {},
   "source": [
    "#### Get config and job"
   ]
  },
  {
   "cell_type": "code",
   "execution_count": 76,
   "id": "d171a6bc-c56d-4275-9b62-c35e1606ec5e",
   "metadata": {},
   "outputs": [
    {
     "data": {
      "text/plain": [
       "{'_id': '66a6ad502799a3996dc9f1ea',\n",
       " 'camera_id': 'TEST',\n",
       " 'class_id': '66359433f80018829b662dba',\n",
       " 'end_time': '23:59:59',\n",
       " 'object_id': 'TEST',\n",
       " 'schedule': '0 0 14 * *',\n",
       " 'start_time': '00:00:00',\n",
       " 'time_zone': 'America/Sao_Paulo',\n",
       " 'user_id': 'TEST'}"
      ]
     },
     "metadata": {},
     "output_type": "display_data"
    },
    {
     "name": "stdout",
     "output_type": "stream",
     "text": [
      "\n",
      "status_code: 200\n",
      "message: OK\n"
     ]
    },
    {
     "data": {
      "text/plain": [
       "[{'body': None,\n",
       "  'headers': {'Content-Type': 'application/json',\n",
       "   'User-Agent': 'Google-Cloud-Scheduler'},\n",
       "  'last_attempt_time': '',\n",
       "  'method': 'GET',\n",
       "  'name': 'projects/sandbox-niteroi/locations/us-central1/jobs/config-66a6ad502799a3996dc9f1ea',\n",
       "  'schedule': '0 0 14 * *',\n",
       "  'state': 'ENABLED',\n",
       "  'time_zone': 'America/Sao_Paulo',\n",
       "  'url': 'http://localhost:5004/process_config/66a6ad502799a3996dc9f1ea'}]"
      ]
     },
     "execution_count": 76,
     "metadata": {},
     "output_type": "execute_result"
    }
   ],
   "source": [
    "config = mongodb.get_record_by_id('octacity', 'configs', '66a6ad502799a3996dc9f1ea')\n",
    "display(config)\n",
    "print()\n",
    "\n",
    "list_jobs()"
   ]
  },
  {
   "cell_type": "markdown",
   "id": "1320baee-7f6f-45a4-b318-51e638c414b2",
   "metadata": {},
   "source": [
    "#### Post AI task configuration"
   ]
  },
  {
   "cell_type": "code",
   "execution_count": 71,
   "id": "81205108-7e76-426d-8f34-abaaaaabd62b",
   "metadata": {},
   "outputs": [
    {
     "name": "stdout",
     "output_type": "stream",
     "text": [
      "Response status code: 201\n",
      "Response body: {\"config_id\":\"66a6ad502799a3996dc9f1ea\",\"data\":{\"_id\":\"66a6ad502799a3996dc9f1ea\",\"camera_id\":\"66a6ac0b2799a3996dc9f1e9\",\"class_id\":\"66359433f80018829b662dba\",\"end_time\":\"23:59:59\",\"schedule\":\"0 20 * * *\",\"start_time\":\"00:00:00\",\"time_zone\":\"America/Sao_Paulo\",\"user_id\":\"66065f62e8005b6e641b4165\"},\"detail\":\"Configuration object created and job created successfully\",\"ok\":true}\n",
      "\n"
     ]
    }
   ],
   "source": [
    "import requests\n",
    "\n",
    "# Define the endpoint URL\n",
    "url = f\"{AI_CAMERA_CLIENT_API_URL}/config\"\n",
    "\n",
    "# Example data to be sent in the request\n",
    "data = {\n",
    "    \"camera_id\": \"example_camera_id\",\n",
    "    \"class_id\": \"example_object_id\",\n",
    "    \"schedule\": \"0 20 * * *\",\n",
    "    # \"zone_ids\": '0,1'\n",
    "}\n",
    "\n",
    "data = {\n",
    "    \"camera_id\": \"66a6ac0b2799a3996dc9f1e9\",\n",
    "    \"class_id\": \"66359433f80018829b662dba\",\n",
    "    \"schedule\": \"0 20 * * *\",\n",
    "    # \"zone_ids\": '0,1'\n",
    "}\n",
    "\n",
    "# Make a POST request to the endpoint with the example data\n",
    "res = requests.post(url, json=data)\n",
    "\n",
    "# Print the response\n",
    "print(\"Response status code:\", res.status_code)\n",
    "print(\"Response body:\", res.text)\n"
   ]
  },
  {
   "cell_type": "markdown",
   "id": "eb335162-5b60-4f27-ac92-5159bb761cf4",
   "metadata": {},
   "source": [
    "#### Update AI task configuration"
   ]
  },
  {
   "cell_type": "code",
   "execution_count": 75,
   "id": "515b47d3-039d-4450-8334-2d611bd0138c",
   "metadata": {},
   "outputs": [
    {
     "name": "stdout",
     "output_type": "stream",
     "text": [
      "Response status code: 200\n",
      "Response body: {\"config_id\":\"66a6ad502799a3996dc9f1ea\",\"detail\":\"Configuration object update and job updated successfully\",\"ok\":true}\n",
      "\n"
     ]
    }
   ],
   "source": [
    "import requests\n",
    "\n",
    "config_id = '66a6ad502799a3996dc9f1ea'\n",
    "\n",
    "# Define the endpoint URL\n",
    "url = f\"{AI_CAMERA_CLIENT_API_URL}/config/{config_id}\"\n",
    "\n",
    "# Example data to be sent in the request\n",
    "data = {\n",
    "    \"user_id\": \"TEST\",\n",
    "    \"camera_id\": \"TEST\",\n",
    "    \"object_id\": \"TEST\",\n",
    "    \"schedule\": \"0 0 14 * *\"\n",
    "}\n",
    "\n",
    "# Make a POST request to the endpoint with the example data\n",
    "res = requests.put(url, json=data)\n",
    "\n",
    "# Print the response\n",
    "print(\"Response status code:\", res.status_code)\n",
    "print(\"Response body:\", res.text)\n"
   ]
  },
  {
   "cell_type": "markdown",
   "id": "39962925-13bb-4d81-932a-c16a518d526d",
   "metadata": {},
   "source": [
    "#### Delete AI task configuration"
   ]
  },
  {
   "cell_type": "code",
   "execution_count": 77,
   "id": "636b9ce8-6772-4cdd-85ac-c5da2a3bb92f",
   "metadata": {},
   "outputs": [
    {
     "name": "stdout",
     "output_type": "stream",
     "text": [
      "Response status code: 200\n",
      "Response body: {\"config_id\":\"66a6ad502799a3996dc9f1ea\",\"detail\":\"Configuration object deleted and job deleted successfully\",\"ok\":true}\n",
      "\n"
     ]
    }
   ],
   "source": [
    "import requests\n",
    "\n",
    "config_id = '66a6ad502799a3996dc9f1ea'\n",
    "\n",
    "# Define the endpoint URL\n",
    "url = f\"{AI_CAMERA_CLIENT_API_URL}/config/{config_id}\"\n",
    "\n",
    "# Make a POST request to the endpoint with the example data\n",
    "res = requests.delete(url)\n",
    "\n",
    "# Print the response\n",
    "print(\"Response status code:\", res.status_code)\n",
    "print(\"Response body:\", res.text)\n"
   ]
  }
 ],
 "metadata": {
  "kernelspec": {
   "display_name": "Python 3 (ipykernel)",
   "language": "python",
   "name": "python3"
  },
  "language_info": {
   "codemirror_mode": {
    "name": "ipython",
    "version": 3
   },
   "file_extension": ".py",
   "mimetype": "text/x-python",
   "name": "python",
   "nbconvert_exporter": "python",
   "pygments_lexer": "ipython3",
   "version": "3.11.7"
  }
 },
 "nbformat": 4,
 "nbformat_minor": 5
}
